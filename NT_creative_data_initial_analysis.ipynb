{
 "cells": [
  {
   "cell_type": "markdown",
   "id": "42119ff5",
   "metadata": {},
   "source": [
    "### Dataset : 'Change 2022 Creative Data writeback_091122.xlxs'"
   ]
  },
  {
   "cell_type": "markdown",
   "id": "fa7dbe8f",
   "metadata": {},
   "source": [
    "Data cleaning process for 'Change 2022 Creative Data writeback_091122.xlsx' dataset. \n",
    "\n",
    "Excel cleaning: A new column 'Spend_new' with 'number' format  was created containing the 'Spend' column  data but converted to number format as some of the cells has a date-time value instead. \n",
    "\n"
   ]
  },
  {
   "cell_type": "markdown",
   "id": "5fafc860",
   "metadata": {},
   "source": [
    "- Import the necessary libraries\n",
    "- Load the dataset into a dataframe using Pandas\n",
    "- Sense check the dataset\n",
    "- Check for duplicated and delete the duplicated rows\n",
    "- Drop unnecessary columns\n",
    "- Rename columns\n",
    "- Handle missing, incorrect and invalid data\n",
    "- Change datatypes\n",
    "\n",
    "- Perform additional steps - parsing dates, creating additional columns, merging multiple dataset etc"
   ]
  },
  {
   "cell_type": "markdown",
   "id": "51b84f01",
   "metadata": {},
   "source": [
    "## Import and Explore the data"
   ]
  },
  {
   "cell_type": "markdown",
   "id": "0295a7aa",
   "metadata": {},
   "source": [
    "## Prepare the workstation"
   ]
  },
  {
   "cell_type": "code",
   "execution_count": 1,
   "id": "d695fef9",
   "metadata": {},
   "outputs": [],
   "source": [
    "# Import the necessary libraries and packages\n",
    "import pandas as pd\n",
    "import matplotlib.pyplot as plt\n",
    "import seaborn as sns\n",
    "import numpy as np\n",
    "import datetime as dt\n",
    "\n",
    "# Ignore warnings\n",
    "import warnings\n",
    "warnings.filterwarnings('ignore')"
   ]
  },
  {
   "cell_type": "code",
   "execution_count": 2,
   "id": "56f460b7",
   "metadata": {},
   "outputs": [],
   "source": [
    "# Set the figure size.\n",
    "sns.set(rc={'figure.figsize':(12, 8)})\n",
    "\n",
    "# Set the plot style as white.\n",
    "sns.set_style('white')"
   ]
  },
  {
   "cell_type": "markdown",
   "id": "74a2c680",
   "metadata": {},
   "source": [
    "#### Load the dataset and sense-check \n",
    "  *(Ensure dataset is in current working directory)*"
   ]
  },
  {
   "cell_type": "code",
   "execution_count": 3,
   "id": "6d81ec39",
   "metadata": {},
   "outputs": [
    {
     "data": {
      "text/html": [
       "<div>\n",
       "<style scoped>\n",
       "    .dataframe tbody tr th:only-of-type {\n",
       "        vertical-align: middle;\n",
       "    }\n",
       "\n",
       "    .dataframe tbody tr th {\n",
       "        vertical-align: top;\n",
       "    }\n",
       "\n",
       "    .dataframe thead th {\n",
       "        text-align: right;\n",
       "    }\n",
       "</style>\n",
       "<table border=\"1\" class=\"dataframe\">\n",
       "  <thead>\n",
       "    <tr style=\"text-align: right;\">\n",
       "      <th></th>\n",
       "      <th>Requested URL Path</th>\n",
       "      <th>Campaign</th>\n",
       "      <th>Ad Format</th>\n",
       "      <th>Clicks</th>\n",
       "      <th>Spend</th>\n",
       "      <th>Creative - Size</th>\n",
       "      <th>Date</th>\n",
       "      <th>Impressions</th>\n",
       "      <th>Reach</th>\n",
       "      <th>Audience</th>\n",
       "      <th>...</th>\n",
       "      <th>Creative - Version</th>\n",
       "      <th>100% Video Views</th>\n",
       "      <th>Video Starts</th>\n",
       "      <th>Follows</th>\n",
       "      <th>Days away from max date</th>\n",
       "      <th>Latest report?</th>\n",
       "      <th>CTR</th>\n",
       "      <th>CTR Score</th>\n",
       "      <th>Weighted CTR Score</th>\n",
       "      <th>Spend_new</th>\n",
       "    </tr>\n",
       "  </thead>\n",
       "  <tbody>\n",
       "    <tr>\n",
       "      <th>0</th>\n",
       "      <td>https://graph.facebook.com/v12.0/act_109970164...</td>\n",
       "      <td>FY22</td>\n",
       "      <td>Single image</td>\n",
       "      <td>0.0</td>\n",
       "      <td>0.26</td>\n",
       "      <td>NaN</td>\n",
       "      <td>2022-05-19</td>\n",
       "      <td>119</td>\n",
       "      <td>63.0</td>\n",
       "      <td>1</td>\n",
       "      <td>...</td>\n",
       "      <td>NoDTI</td>\n",
       "      <td>NaN</td>\n",
       "      <td>NaN</td>\n",
       "      <td>NaN</td>\n",
       "      <td>165</td>\n",
       "      <td>0</td>\n",
       "      <td>0.000000</td>\n",
       "      <td>NaN</td>\n",
       "      <td>NaN</td>\n",
       "      <td>0.26</td>\n",
       "    </tr>\n",
       "    <tr>\n",
       "      <th>1</th>\n",
       "      <td>https://graph.facebook.com/v12.0/act_109970164...</td>\n",
       "      <td>FY22</td>\n",
       "      <td>Single image</td>\n",
       "      <td>0.0</td>\n",
       "      <td>0.15</td>\n",
       "      <td>NaN</td>\n",
       "      <td>2022-05-19</td>\n",
       "      <td>9</td>\n",
       "      <td>8.0</td>\n",
       "      <td>1</td>\n",
       "      <td>...</td>\n",
       "      <td>NoDTI</td>\n",
       "      <td>NaN</td>\n",
       "      <td>NaN</td>\n",
       "      <td>NaN</td>\n",
       "      <td>165</td>\n",
       "      <td>0</td>\n",
       "      <td>0.000000</td>\n",
       "      <td>NaN</td>\n",
       "      <td>NaN</td>\n",
       "      <td>0.15</td>\n",
       "    </tr>\n",
       "    <tr>\n",
       "      <th>2</th>\n",
       "      <td>https://graph.facebook.com/v12.0/act_109970164...</td>\n",
       "      <td>FY22</td>\n",
       "      <td>Single image</td>\n",
       "      <td>0.0</td>\n",
       "      <td>0.38</td>\n",
       "      <td>NaN</td>\n",
       "      <td>2022-05-19</td>\n",
       "      <td>26</td>\n",
       "      <td>17.0</td>\n",
       "      <td>1</td>\n",
       "      <td>...</td>\n",
       "      <td>NoDTI</td>\n",
       "      <td>NaN</td>\n",
       "      <td>NaN</td>\n",
       "      <td>NaN</td>\n",
       "      <td>165</td>\n",
       "      <td>0</td>\n",
       "      <td>0.000000</td>\n",
       "      <td>NaN</td>\n",
       "      <td>NaN</td>\n",
       "      <td>0.38</td>\n",
       "    </tr>\n",
       "    <tr>\n",
       "      <th>3</th>\n",
       "      <td>https://graph.facebook.com/v12.0/act_109970164...</td>\n",
       "      <td>FY22</td>\n",
       "      <td>Single image</td>\n",
       "      <td>0.0</td>\n",
       "      <td>0.19</td>\n",
       "      <td>NaN</td>\n",
       "      <td>2022-05-19</td>\n",
       "      <td>12</td>\n",
       "      <td>10.0</td>\n",
       "      <td>1</td>\n",
       "      <td>...</td>\n",
       "      <td>NoDTI</td>\n",
       "      <td>NaN</td>\n",
       "      <td>NaN</td>\n",
       "      <td>NaN</td>\n",
       "      <td>165</td>\n",
       "      <td>0</td>\n",
       "      <td>0.000000</td>\n",
       "      <td>NaN</td>\n",
       "      <td>NaN</td>\n",
       "      <td>0.19</td>\n",
       "    </tr>\n",
       "    <tr>\n",
       "      <th>4</th>\n",
       "      <td>https://graph.facebook.com/v12.0/act_109970164...</td>\n",
       "      <td>FY22</td>\n",
       "      <td>Single image</td>\n",
       "      <td>1.0</td>\n",
       "      <td>3.62</td>\n",
       "      <td>NaN</td>\n",
       "      <td>2022-05-19</td>\n",
       "      <td>247</td>\n",
       "      <td>150.0</td>\n",
       "      <td>1</td>\n",
       "      <td>...</td>\n",
       "      <td>EarlyBird</td>\n",
       "      <td>NaN</td>\n",
       "      <td>NaN</td>\n",
       "      <td>NaN</td>\n",
       "      <td>165</td>\n",
       "      <td>0</td>\n",
       "      <td>0.004049</td>\n",
       "      <td>NaN</td>\n",
       "      <td>NaN</td>\n",
       "      <td>3.62</td>\n",
       "    </tr>\n",
       "  </tbody>\n",
       "</table>\n",
       "<p>5 rows × 22 columns</p>\n",
       "</div>"
      ],
      "text/plain": [
       "                                  Requested URL Path Campaign     Ad Format  \\\n",
       "0  https://graph.facebook.com/v12.0/act_109970164...     FY22  Single image   \n",
       "1  https://graph.facebook.com/v12.0/act_109970164...     FY22  Single image   \n",
       "2  https://graph.facebook.com/v12.0/act_109970164...     FY22  Single image   \n",
       "3  https://graph.facebook.com/v12.0/act_109970164...     FY22  Single image   \n",
       "4  https://graph.facebook.com/v12.0/act_109970164...     FY22  Single image   \n",
       "\n",
       "   Clicks Spend Creative - Size       Date  Impressions  Reach Audience  ...  \\\n",
       "0     0.0  0.26             NaN 2022-05-19          119   63.0        1  ...   \n",
       "1     0.0  0.15             NaN 2022-05-19            9    8.0        1  ...   \n",
       "2     0.0  0.38             NaN 2022-05-19           26   17.0        1  ...   \n",
       "3     0.0  0.19             NaN 2022-05-19           12   10.0        1  ...   \n",
       "4     1.0  3.62             NaN 2022-05-19          247  150.0        1  ...   \n",
       "\n",
       "  Creative - Version 100% Video Views Video Starts  Follows  \\\n",
       "0              NoDTI              NaN          NaN      NaN   \n",
       "1              NoDTI              NaN          NaN      NaN   \n",
       "2              NoDTI              NaN          NaN      NaN   \n",
       "3              NoDTI              NaN          NaN      NaN   \n",
       "4          EarlyBird              NaN          NaN      NaN   \n",
       "\n",
       "   Days away from max date  Latest report?       CTR  CTR Score  \\\n",
       "0                      165               0  0.000000        NaN   \n",
       "1                      165               0  0.000000        NaN   \n",
       "2                      165               0  0.000000        NaN   \n",
       "3                      165               0  0.000000        NaN   \n",
       "4                      165               0  0.004049        NaN   \n",
       "\n",
       "   Weighted CTR Score  Spend_new  \n",
       "0                 NaN       0.26  \n",
       "1                 NaN       0.15  \n",
       "2                 NaN       0.38  \n",
       "3                 NaN       0.19  \n",
       "4                 NaN       3.62  \n",
       "\n",
       "[5 rows x 22 columns]"
      ]
     },
     "execution_count": 3,
     "metadata": {},
     "output_type": "execute_result"
    }
   ],
   "source": [
    "# Load the dataset \n",
    "df_creative = pd.read_excel('Change 2022 Creative Data writeback_091122_altered.xlsx')\n",
    "\n",
    "# View the dataframe\n",
    "df_creative.head()"
   ]
  },
  {
   "cell_type": "code",
   "execution_count": 4,
   "id": "49c31b50",
   "metadata": {},
   "outputs": [
    {
     "name": "stdout",
     "output_type": "stream",
     "text": [
      "Shape of dataset:\n",
      " (102068, 22)\n",
      "\n",
      "Datatypes:\n",
      " Requested URL Path                 object\n",
      "Campaign                           object\n",
      "Ad Format                          object\n",
      "Clicks                            float64\n",
      "Spend                              object\n",
      "Creative - Size                    object\n",
      "Date                       datetime64[ns]\n",
      "Impressions                         int64\n",
      "Reach                             float64\n",
      "Audience                           object\n",
      "Platform                           object\n",
      "Creative - Family                  object\n",
      "Creative - Version                 object\n",
      "100% Video Views                  float64\n",
      "Video Starts                      float64\n",
      "Follows                           float64\n",
      "Days away from max date             int64\n",
      "Latest report?                      int64\n",
      "CTR                               float64\n",
      "CTR Score                         float64\n",
      "Weighted CTR Score                float64\n",
      "Spend_new                          object\n",
      "dtype: object\n",
      "\n",
      "Columns : \n",
      " Index(['Requested URL Path', 'Campaign', 'Ad Format', 'Clicks', 'Spend',\n",
      "       'Creative - Size', 'Date', 'Impressions', 'Reach', 'Audience',\n",
      "       'Platform', 'Creative - Family', 'Creative - Version',\n",
      "       '100% Video Views', 'Video Starts', 'Follows',\n",
      "       'Days away from max date', 'Latest report?', 'CTR', 'CTR Score',\n",
      "       'Weighted CTR Score', 'Spend_new'],\n",
      "      dtype='object')\n"
     ]
    }
   ],
   "source": [
    "# Sense check the data sets to determine shape, data types and column names\n",
    "print('Shape of dataset:\\n',df_creative.shape)\n",
    "print('\\nDatatypes:\\n',df_creative.dtypes)\n",
    "print('\\nColumns : \\n',df_creative.columns)"
   ]
  },
  {
   "cell_type": "code",
   "execution_count": 5,
   "id": "4b8c0076",
   "metadata": {},
   "outputs": [
    {
     "name": "stdout",
     "output_type": "stream",
     "text": [
      "<class 'pandas.core.frame.DataFrame'>\n",
      "RangeIndex: 102068 entries, 0 to 102067\n",
      "Data columns (total 22 columns):\n",
      " #   Column                   Non-Null Count   Dtype         \n",
      "---  ------                   --------------   -----         \n",
      " 0   Requested URL Path       14205 non-null   object        \n",
      " 1   Campaign                 101996 non-null  object        \n",
      " 2   Ad Format                101997 non-null  object        \n",
      " 3   Clicks                   90191 non-null   float64       \n",
      " 4   Spend                    102068 non-null  object        \n",
      " 5   Creative - Size          73485 non-null   object        \n",
      " 6   Date                     102068 non-null  datetime64[ns]\n",
      " 7   Impressions              102068 non-null  int64         \n",
      " 8   Reach                    80824 non-null   float64       \n",
      " 9   Audience                 102027 non-null  object        \n",
      " 10  Platform                 102068 non-null  object        \n",
      " 11  Creative - Family        101185 non-null  object        \n",
      " 12  Creative - Version       101543 non-null  object        \n",
      " 13  100% Video Views         24447 non-null   float64       \n",
      " 14  Video Starts             25460 non-null   float64       \n",
      " 15  Follows                  8400 non-null    float64       \n",
      " 16  Days away from max date  102068 non-null  int64         \n",
      " 17  Latest report?           102068 non-null  int64         \n",
      " 18  CTR                      89239 non-null   float64       \n",
      " 19  CTR Score                75018 non-null   float64       \n",
      " 20  Weighted CTR Score       75018 non-null   float64       \n",
      " 21  Spend_new                102068 non-null  object        \n",
      "dtypes: datetime64[ns](1), float64(8), int64(3), object(10)\n",
      "memory usage: 17.1+ MB\n"
     ]
    }
   ],
   "source": [
    "# Determine the metadata of the data set.\n",
    "# This gives us information about the columns in the dataframe and their datatypes.\n",
    "df_creative.info()"
   ]
  },
  {
   "cell_type": "code",
   "execution_count": 6,
   "id": "dc688a6a",
   "metadata": {},
   "outputs": [
    {
     "data": {
      "text/html": [
       "<div>\n",
       "<style scoped>\n",
       "    .dataframe tbody tr th:only-of-type {\n",
       "        vertical-align: middle;\n",
       "    }\n",
       "\n",
       "    .dataframe tbody tr th {\n",
       "        vertical-align: top;\n",
       "    }\n",
       "\n",
       "    .dataframe thead th {\n",
       "        text-align: right;\n",
       "    }\n",
       "</style>\n",
       "<table border=\"1\" class=\"dataframe\">\n",
       "  <thead>\n",
       "    <tr style=\"text-align: right;\">\n",
       "      <th></th>\n",
       "      <th>Requested URL Path</th>\n",
       "      <th>Campaign</th>\n",
       "      <th>Ad Format</th>\n",
       "      <th>Clicks</th>\n",
       "      <th>Spend</th>\n",
       "      <th>Creative - Size</th>\n",
       "      <th>Date</th>\n",
       "      <th>Impressions</th>\n",
       "      <th>Reach</th>\n",
       "      <th>Audience</th>\n",
       "      <th>...</th>\n",
       "      <th>Creative - Version</th>\n",
       "      <th>100% Video Views</th>\n",
       "      <th>Video Starts</th>\n",
       "      <th>Follows</th>\n",
       "      <th>Days away from max date</th>\n",
       "      <th>Latest report?</th>\n",
       "      <th>CTR</th>\n",
       "      <th>CTR Score</th>\n",
       "      <th>Weighted CTR Score</th>\n",
       "      <th>Spend_new</th>\n",
       "    </tr>\n",
       "  </thead>\n",
       "  <tbody>\n",
       "    <tr>\n",
       "      <th>0</th>\n",
       "      <td>https://graph.facebook.com/v12.0/act_109970164...</td>\n",
       "      <td>FY22</td>\n",
       "      <td>Single image</td>\n",
       "      <td>0.0</td>\n",
       "      <td>0.26</td>\n",
       "      <td>NaN</td>\n",
       "      <td>2022-05-19</td>\n",
       "      <td>119</td>\n",
       "      <td>63.0</td>\n",
       "      <td>1</td>\n",
       "      <td>...</td>\n",
       "      <td>NoDTI</td>\n",
       "      <td>NaN</td>\n",
       "      <td>NaN</td>\n",
       "      <td>NaN</td>\n",
       "      <td>165</td>\n",
       "      <td>0</td>\n",
       "      <td>0.000000</td>\n",
       "      <td>NaN</td>\n",
       "      <td>NaN</td>\n",
       "      <td>0.26</td>\n",
       "    </tr>\n",
       "    <tr>\n",
       "      <th>1</th>\n",
       "      <td>https://graph.facebook.com/v12.0/act_109970164...</td>\n",
       "      <td>FY22</td>\n",
       "      <td>Single image</td>\n",
       "      <td>0.0</td>\n",
       "      <td>0.15</td>\n",
       "      <td>NaN</td>\n",
       "      <td>2022-05-19</td>\n",
       "      <td>9</td>\n",
       "      <td>8.0</td>\n",
       "      <td>1</td>\n",
       "      <td>...</td>\n",
       "      <td>NoDTI</td>\n",
       "      <td>NaN</td>\n",
       "      <td>NaN</td>\n",
       "      <td>NaN</td>\n",
       "      <td>165</td>\n",
       "      <td>0</td>\n",
       "      <td>0.000000</td>\n",
       "      <td>NaN</td>\n",
       "      <td>NaN</td>\n",
       "      <td>0.15</td>\n",
       "    </tr>\n",
       "    <tr>\n",
       "      <th>2</th>\n",
       "      <td>https://graph.facebook.com/v12.0/act_109970164...</td>\n",
       "      <td>FY22</td>\n",
       "      <td>Single image</td>\n",
       "      <td>0.0</td>\n",
       "      <td>0.38</td>\n",
       "      <td>NaN</td>\n",
       "      <td>2022-05-19</td>\n",
       "      <td>26</td>\n",
       "      <td>17.0</td>\n",
       "      <td>1</td>\n",
       "      <td>...</td>\n",
       "      <td>NoDTI</td>\n",
       "      <td>NaN</td>\n",
       "      <td>NaN</td>\n",
       "      <td>NaN</td>\n",
       "      <td>165</td>\n",
       "      <td>0</td>\n",
       "      <td>0.000000</td>\n",
       "      <td>NaN</td>\n",
       "      <td>NaN</td>\n",
       "      <td>0.38</td>\n",
       "    </tr>\n",
       "    <tr>\n",
       "      <th>3</th>\n",
       "      <td>https://graph.facebook.com/v12.0/act_109970164...</td>\n",
       "      <td>FY22</td>\n",
       "      <td>Single image</td>\n",
       "      <td>0.0</td>\n",
       "      <td>0.19</td>\n",
       "      <td>NaN</td>\n",
       "      <td>2022-05-19</td>\n",
       "      <td>12</td>\n",
       "      <td>10.0</td>\n",
       "      <td>1</td>\n",
       "      <td>...</td>\n",
       "      <td>NoDTI</td>\n",
       "      <td>NaN</td>\n",
       "      <td>NaN</td>\n",
       "      <td>NaN</td>\n",
       "      <td>165</td>\n",
       "      <td>0</td>\n",
       "      <td>0.000000</td>\n",
       "      <td>NaN</td>\n",
       "      <td>NaN</td>\n",
       "      <td>0.19</td>\n",
       "    </tr>\n",
       "    <tr>\n",
       "      <th>4</th>\n",
       "      <td>https://graph.facebook.com/v12.0/act_109970164...</td>\n",
       "      <td>FY22</td>\n",
       "      <td>Single image</td>\n",
       "      <td>1.0</td>\n",
       "      <td>3.62</td>\n",
       "      <td>NaN</td>\n",
       "      <td>2022-05-19</td>\n",
       "      <td>247</td>\n",
       "      <td>150.0</td>\n",
       "      <td>1</td>\n",
       "      <td>...</td>\n",
       "      <td>EarlyBird</td>\n",
       "      <td>NaN</td>\n",
       "      <td>NaN</td>\n",
       "      <td>NaN</td>\n",
       "      <td>165</td>\n",
       "      <td>0</td>\n",
       "      <td>0.004049</td>\n",
       "      <td>NaN</td>\n",
       "      <td>NaN</td>\n",
       "      <td>3.62</td>\n",
       "    </tr>\n",
       "  </tbody>\n",
       "</table>\n",
       "<p>5 rows × 22 columns</p>\n",
       "</div>"
      ],
      "text/plain": [
       "                                  Requested URL Path Campaign     Ad Format  \\\n",
       "0  https://graph.facebook.com/v12.0/act_109970164...     FY22  Single image   \n",
       "1  https://graph.facebook.com/v12.0/act_109970164...     FY22  Single image   \n",
       "2  https://graph.facebook.com/v12.0/act_109970164...     FY22  Single image   \n",
       "3  https://graph.facebook.com/v12.0/act_109970164...     FY22  Single image   \n",
       "4  https://graph.facebook.com/v12.0/act_109970164...     FY22  Single image   \n",
       "\n",
       "   Clicks Spend Creative - Size       Date  Impressions  Reach Audience  ...  \\\n",
       "0     0.0  0.26             NaN 2022-05-19          119   63.0        1  ...   \n",
       "1     0.0  0.15             NaN 2022-05-19            9    8.0        1  ...   \n",
       "2     0.0  0.38             NaN 2022-05-19           26   17.0        1  ...   \n",
       "3     0.0  0.19             NaN 2022-05-19           12   10.0        1  ...   \n",
       "4     1.0  3.62             NaN 2022-05-19          247  150.0        1  ...   \n",
       "\n",
       "  Creative - Version 100% Video Views Video Starts  Follows  \\\n",
       "0              NoDTI              NaN          NaN      NaN   \n",
       "1              NoDTI              NaN          NaN      NaN   \n",
       "2              NoDTI              NaN          NaN      NaN   \n",
       "3              NoDTI              NaN          NaN      NaN   \n",
       "4          EarlyBird              NaN          NaN      NaN   \n",
       "\n",
       "   Days away from max date  Latest report?       CTR  CTR Score  \\\n",
       "0                      165               0  0.000000        NaN   \n",
       "1                      165               0  0.000000        NaN   \n",
       "2                      165               0  0.000000        NaN   \n",
       "3                      165               0  0.000000        NaN   \n",
       "4                      165               0  0.004049        NaN   \n",
       "\n",
       "   Weighted CTR Score  Spend_new  \n",
       "0                 NaN       0.26  \n",
       "1                 NaN       0.15  \n",
       "2                 NaN       0.38  \n",
       "3                 NaN       0.19  \n",
       "4                 NaN       3.62  \n",
       "\n",
       "[5 rows x 22 columns]"
      ]
     },
     "execution_count": 6,
     "metadata": {},
     "output_type": "execute_result"
    }
   ],
   "source": [
    "# Make a copy of the dataframe before cleaning\n",
    "df = df_creative.copy()\n",
    "df.head()"
   ]
  },
  {
   "cell_type": "code",
   "execution_count": 7,
   "id": "817d8f08",
   "metadata": {},
   "outputs": [
    {
     "data": {
      "text/plain": [
       "300x600                                     9075\n",
       "300x250                                     7806\n",
       "728x90                                      7377\n",
       "160x600                                     6190\n",
       "970x250                                     5977\n",
       "                                            ... \n",
       "wholesale lenders for mortgage brokers         3\n",
       "top mortgage companies to work for 2020        1\n",
       "best mortgage loan companies to work for       1\n",
       "no income mortgage                             1\n",
       "mortgage wholesale broker                      1\n",
       "Name: Creative - Size, Length: 99, dtype: int64"
      ]
     },
     "execution_count": 7,
     "metadata": {},
     "output_type": "execute_result"
    }
   ],
   "source": [
    "# Check 'Creative - Size' values\n",
    "df['Creative - Size'].value_counts()"
   ]
  },
  {
   "cell_type": "markdown",
   "id": "76249d46",
   "metadata": {},
   "source": [
    "<br>The 'Creative- size' column contains a lot of illogical data and is not used in the analysis.\n",
    "<br>'Requested URL Path', 'Spend', 'Days away from max date', 'Latest report' are not used in the analysis.\n",
    "##### Columns dropped : \n",
    "- Requested URL Path\n",
    "- Creative  - Size\n",
    "- Spend (duplicated as 'Spend_new' with correct formatting in Excel)\n",
    "- Days away from max date\n",
    "- Latest report?"
   ]
  },
  {
   "cell_type": "code",
   "execution_count": 8,
   "id": "0f03db6c",
   "metadata": {},
   "outputs": [
    {
     "data": {
      "text/html": [
       "<div>\n",
       "<style scoped>\n",
       "    .dataframe tbody tr th:only-of-type {\n",
       "        vertical-align: middle;\n",
       "    }\n",
       "\n",
       "    .dataframe tbody tr th {\n",
       "        vertical-align: top;\n",
       "    }\n",
       "\n",
       "    .dataframe thead th {\n",
       "        text-align: right;\n",
       "    }\n",
       "</style>\n",
       "<table border=\"1\" class=\"dataframe\">\n",
       "  <thead>\n",
       "    <tr style=\"text-align: right;\">\n",
       "      <th></th>\n",
       "      <th>Campaign</th>\n",
       "      <th>Ad Format</th>\n",
       "      <th>Clicks</th>\n",
       "      <th>Date</th>\n",
       "      <th>Impressions</th>\n",
       "      <th>Reach</th>\n",
       "      <th>Audience</th>\n",
       "      <th>Platform</th>\n",
       "      <th>Creative - Family</th>\n",
       "      <th>Creative - Version</th>\n",
       "      <th>100% Video Views</th>\n",
       "      <th>Video Starts</th>\n",
       "      <th>Follows</th>\n",
       "      <th>CTR</th>\n",
       "      <th>CTR Score</th>\n",
       "      <th>Weighted CTR Score</th>\n",
       "      <th>Spend_new</th>\n",
       "    </tr>\n",
       "  </thead>\n",
       "  <tbody>\n",
       "    <tr>\n",
       "      <th>0</th>\n",
       "      <td>FY22</td>\n",
       "      <td>Single image</td>\n",
       "      <td>0.0</td>\n",
       "      <td>2022-05-19</td>\n",
       "      <td>119</td>\n",
       "      <td>63.0</td>\n",
       "      <td>1</td>\n",
       "      <td>Facebook</td>\n",
       "      <td>CloseFaster</td>\n",
       "      <td>NoDTI</td>\n",
       "      <td>NaN</td>\n",
       "      <td>NaN</td>\n",
       "      <td>NaN</td>\n",
       "      <td>0.000000</td>\n",
       "      <td>NaN</td>\n",
       "      <td>NaN</td>\n",
       "      <td>0.26</td>\n",
       "    </tr>\n",
       "    <tr>\n",
       "      <th>1</th>\n",
       "      <td>FY22</td>\n",
       "      <td>Single image</td>\n",
       "      <td>0.0</td>\n",
       "      <td>2022-05-19</td>\n",
       "      <td>9</td>\n",
       "      <td>8.0</td>\n",
       "      <td>1</td>\n",
       "      <td>Instagram</td>\n",
       "      <td>CloseFaster</td>\n",
       "      <td>NoDTI</td>\n",
       "      <td>NaN</td>\n",
       "      <td>NaN</td>\n",
       "      <td>NaN</td>\n",
       "      <td>0.000000</td>\n",
       "      <td>NaN</td>\n",
       "      <td>NaN</td>\n",
       "      <td>0.15</td>\n",
       "    </tr>\n",
       "    <tr>\n",
       "      <th>2</th>\n",
       "      <td>FY22</td>\n",
       "      <td>Single image</td>\n",
       "      <td>0.0</td>\n",
       "      <td>2022-05-19</td>\n",
       "      <td>26</td>\n",
       "      <td>17.0</td>\n",
       "      <td>1</td>\n",
       "      <td>Facebook</td>\n",
       "      <td>CloseFaster</td>\n",
       "      <td>NoDTI</td>\n",
       "      <td>NaN</td>\n",
       "      <td>NaN</td>\n",
       "      <td>NaN</td>\n",
       "      <td>0.000000</td>\n",
       "      <td>NaN</td>\n",
       "      <td>NaN</td>\n",
       "      <td>0.38</td>\n",
       "    </tr>\n",
       "    <tr>\n",
       "      <th>3</th>\n",
       "      <td>FY22</td>\n",
       "      <td>Single image</td>\n",
       "      <td>0.0</td>\n",
       "      <td>2022-05-19</td>\n",
       "      <td>12</td>\n",
       "      <td>10.0</td>\n",
       "      <td>1</td>\n",
       "      <td>Instagram</td>\n",
       "      <td>CloseFaster</td>\n",
       "      <td>NoDTI</td>\n",
       "      <td>NaN</td>\n",
       "      <td>NaN</td>\n",
       "      <td>NaN</td>\n",
       "      <td>0.000000</td>\n",
       "      <td>NaN</td>\n",
       "      <td>NaN</td>\n",
       "      <td>0.19</td>\n",
       "    </tr>\n",
       "    <tr>\n",
       "      <th>4</th>\n",
       "      <td>FY22</td>\n",
       "      <td>Single image</td>\n",
       "      <td>1.0</td>\n",
       "      <td>2022-05-19</td>\n",
       "      <td>247</td>\n",
       "      <td>150.0</td>\n",
       "      <td>1</td>\n",
       "      <td>Facebook</td>\n",
       "      <td>CloserTwins</td>\n",
       "      <td>EarlyBird</td>\n",
       "      <td>NaN</td>\n",
       "      <td>NaN</td>\n",
       "      <td>NaN</td>\n",
       "      <td>0.004049</td>\n",
       "      <td>NaN</td>\n",
       "      <td>NaN</td>\n",
       "      <td>3.62</td>\n",
       "    </tr>\n",
       "  </tbody>\n",
       "</table>\n",
       "</div>"
      ],
      "text/plain": [
       "  Campaign     Ad Format  Clicks       Date  Impressions  Reach Audience  \\\n",
       "0     FY22  Single image     0.0 2022-05-19          119   63.0        1   \n",
       "1     FY22  Single image     0.0 2022-05-19            9    8.0        1   \n",
       "2     FY22  Single image     0.0 2022-05-19           26   17.0        1   \n",
       "3     FY22  Single image     0.0 2022-05-19           12   10.0        1   \n",
       "4     FY22  Single image     1.0 2022-05-19          247  150.0        1   \n",
       "\n",
       "    Platform Creative - Family Creative - Version  100% Video Views  \\\n",
       "0   Facebook       CloseFaster              NoDTI               NaN   \n",
       "1  Instagram       CloseFaster              NoDTI               NaN   \n",
       "2   Facebook       CloseFaster              NoDTI               NaN   \n",
       "3  Instagram       CloseFaster              NoDTI               NaN   \n",
       "4   Facebook       CloserTwins          EarlyBird               NaN   \n",
       "\n",
       "   Video Starts  Follows       CTR  CTR Score  Weighted CTR Score Spend_new  \n",
       "0           NaN      NaN  0.000000        NaN                 NaN      0.26  \n",
       "1           NaN      NaN  0.000000        NaN                 NaN      0.15  \n",
       "2           NaN      NaN  0.000000        NaN                 NaN      0.38  \n",
       "3           NaN      NaN  0.000000        NaN                 NaN      0.19  \n",
       "4           NaN      NaN  0.004049        NaN                 NaN      3.62  "
      ]
     },
     "execution_count": 8,
     "metadata": {},
     "output_type": "execute_result"
    }
   ],
   "source": [
    "# Drop unnecessary columns : 'Requested URL Path', 'Spend', 'Days away from max date', 'Latest report?'\n",
    "df.drop(['Requested URL Path', 'Creative - Size', 'Spend', 'Days away from max date', 'Latest report?'], \\\n",
    "        axis = 1, inplace=True)\n",
    "\n",
    "# View the dataframe\n",
    "df.head()"
   ]
  },
  {
   "cell_type": "markdown",
   "id": "13809b5c",
   "metadata": {},
   "source": [
    "#### Renaming columns following same naming formats across all datasets used in the analysis"
   ]
  },
  {
   "cell_type": "code",
   "execution_count": 9,
   "id": "677c7ec0",
   "metadata": {},
   "outputs": [],
   "source": [
    "# Rename columns\n",
    "\n",
    "df.rename({'Ad Format' : 'Ad_Format',\n",
    "           'Creative - Family': 'Creative_Family',\n",
    "           'Creative - Version': 'Creative_Version',\n",
    "           '100% Video Views': '100%_Video_Views',\n",
    "           'Video Starts': 'Video_Starts',\n",
    "           'CTR Score': 'CTR_Score', 'Weighted CTR Score':'Weighted_CTR_Score',\n",
    "           'Spend_new' : 'Spend'}, \\\n",
    "          axis=1, inplace=True)\n"
   ]
  },
  {
   "cell_type": "code",
   "execution_count": 10,
   "id": "ae4b0adc",
   "metadata": {},
   "outputs": [
    {
     "data": {
      "text/plain": [
       "Campaign                 72\n",
       "Ad_Format                71\n",
       "Clicks                11877\n",
       "Date                      0\n",
       "Impressions               0\n",
       "Reach                 21244\n",
       "Audience                 41\n",
       "Platform                  0\n",
       "Creative_Family         883\n",
       "Creative_Version        525\n",
       "100%_Video_Views      77621\n",
       "Video_Starts          76608\n",
       "Follows               93668\n",
       "CTR                   12829\n",
       "CTR_Score             27050\n",
       "Weighted_CTR_Score    27050\n",
       "Spend                     0\n",
       "dtype: int64"
      ]
     },
     "execution_count": 10,
     "metadata": {},
     "output_type": "execute_result"
    }
   ],
   "source": [
    "# Determine the number of missing values\n",
    "df.isnull().sum()"
   ]
  },
  {
   "cell_type": "code",
   "execution_count": 11,
   "id": "d61e65f0",
   "metadata": {},
   "outputs": [
    {
     "data": {
      "text/plain": [
       "Follows               91.770192\n",
       "100%_Video_Views      76.048321\n",
       "Video_Starts          75.055845\n",
       "Weighted_CTR_Score    26.501940\n",
       "CTR_Score             26.501940\n",
       "Reach                 20.813575\n",
       "CTR                   12.569072\n",
       "Clicks                11.636360\n",
       "Creative_Family        0.865110\n",
       "Creative_Version       0.514363\n",
       "Campaign               0.070541\n",
       "Ad_Format              0.069561\n",
       "Audience               0.040169\n",
       "Platform               0.000000\n",
       "Impressions            0.000000\n",
       "Date                   0.000000\n",
       "Spend                  0.000000\n",
       "dtype: float64"
      ]
     },
     "execution_count": 11,
     "metadata": {},
     "output_type": "execute_result"
    }
   ],
   "source": [
    "# Percentage of missing values in each column\n",
    "percent_missing = df.isnull().sum() * 100 / len(df)\n",
    "percent_missing.sort_values(ascending=False)"
   ]
  },
  {
   "cell_type": "markdown",
   "id": "d518923f",
   "metadata": {},
   "source": [
    "  'Spend' column is in object format. This is converted to float type.\n",
    "The column contains some values in time format. These are ignored and made to NaN values.\n",
    "They are then dropped"
   ]
  },
  {
   "cell_type": "code",
   "execution_count": 12,
   "id": "4faeeaa5",
   "metadata": {},
   "outputs": [
    {
     "name": "stdout",
     "output_type": "stream",
     "text": [
      "float64\n",
      "402\n"
     ]
    }
   ],
   "source": [
    "# 'Spend' column in object format\n",
    "# Change datatype of 'Spend' to float \n",
    "df['Spend'] = pd.to_numeric(df['Spend'], errors='coerce')\n",
    "print(df['Spend'].dtype)\n",
    "print(df['Spend'].isnull().sum())"
   ]
  },
  {
   "cell_type": "code",
   "execution_count": 13,
   "id": "80392012",
   "metadata": {},
   "outputs": [],
   "source": [
    "# Drop the rows with na in 'Spend'\n",
    "df.dropna(subset=['Spend'], inplace=True)"
   ]
  },
  {
   "cell_type": "code",
   "execution_count": 14,
   "id": "28fd26c1",
   "metadata": {},
   "outputs": [
    {
     "data": {
      "text/plain": [
       "11877"
      ]
     },
     "execution_count": 14,
     "metadata": {},
     "output_type": "execute_result"
    }
   ],
   "source": [
    "# Determine number of clicks for 'Platform' == 'OTT'\n",
    "len(df['Clicks'].loc[df['Platform']=='OTT'])"
   ]
  },
  {
   "cell_type": "code",
   "execution_count": 15,
   "id": "6eb4e196",
   "metadata": {},
   "outputs": [
    {
     "data": {
      "text/plain": [
       "11877"
      ]
     },
     "execution_count": 15,
     "metadata": {},
     "output_type": "execute_result"
    }
   ],
   "source": [
    "df['Clicks'].isna().sum()"
   ]
  },
  {
   "cell_type": "markdown",
   "id": "4452a5bb",
   "metadata": {},
   "source": [
    " - The 'Clicks' column has blank/Nan values where Platform== OTT\n",
    " - The corresponding CTR, CTR_Score, Weighted_CTR_Score are also blank\n",
    " - The '100%_Video_Views and 'Video_Starts' columns have values only for Ad_format = 'Video'\n",
    " - Replace the integer/float columns having blank/NaN with 0"
   ]
  },
  {
   "cell_type": "code",
   "execution_count": 16,
   "id": "8295df49",
   "metadata": {},
   "outputs": [],
   "source": [
    "# Use fillna() to replace NaN with 0 for 'Clicks', 'Reach','100%_Video_Views','Video_Starts', 'Follows', 'CTR',\n",
    "# 'CTR_Score', 'Weighted_CTR_Score'\n",
    "\n",
    "cols = ['Clicks','Reach','100%_Video_Views','Video_Starts','Follows', 'CTR', 'CTR_Score', 'Weighted_CTR_Score']\n",
    "df[cols] = df[cols].fillna(0)"
   ]
  },
  {
   "cell_type": "code",
   "execution_count": 17,
   "id": "48d7ae14",
   "metadata": {},
   "outputs": [
    {
     "data": {
      "text/plain": [
       "Campaign                      object\n",
       "Ad_Format                     object\n",
       "Clicks                         int32\n",
       "Date                  datetime64[ns]\n",
       "Impressions                    int64\n",
       "Reach                          int32\n",
       "Audience                      object\n",
       "Platform                      object\n",
       "Creative_Family               object\n",
       "Creative_Version              object\n",
       "100%_Video_Views               int32\n",
       "Video_Starts                   int32\n",
       "Follows                        int32\n",
       "CTR                          float64\n",
       "CTR_Score                    float64\n",
       "Weighted_CTR_Score           float64\n",
       "Spend                        float64\n",
       "dtype: object"
      ]
     },
     "execution_count": 17,
     "metadata": {},
     "output_type": "execute_result"
    }
   ],
   "source": [
    "# Change datatypes from float to int for 'Clicks','Reach', '100%_Video_Views', 'Video_Starts', 'Follows' as these are integer values\n",
    "cols = ['Clicks','Reach','100%_Video_Views','Video_Starts','Follows'] \n",
    "df[cols] = df[cols].astype(int)\n",
    "df.dtypes"
   ]
  },
  {
   "cell_type": "code",
   "execution_count": 18,
   "id": "48590a7c",
   "metadata": {},
   "outputs": [
    {
     "data": {
      "text/plain": [
       "Creative_Family       883\n",
       "Creative_Version      525\n",
       "Campaign               72\n",
       "Ad_Format              71\n",
       "Audience               41\n",
       "Date                    0\n",
       "Impressions             0\n",
       "Reach                   0\n",
       "Platform                0\n",
       "Clicks                  0\n",
       "100%_Video_Views        0\n",
       "Video_Starts            0\n",
       "Follows                 0\n",
       "CTR                     0\n",
       "CTR_Score               0\n",
       "Weighted_CTR_Score      0\n",
       "Spend                   0\n",
       "dtype: int64"
      ]
     },
     "execution_count": 18,
     "metadata": {},
     "output_type": "execute_result"
    }
   ],
   "source": [
    "# Check sum of missing values in the dataframe\n",
    "df.isna().sum().sort_values(ascending=False)"
   ]
  },
  {
   "cell_type": "markdown",
   "id": "e345c193",
   "metadata": {},
   "source": [
    "   "
   ]
  },
  {
   "cell_type": "markdown",
   "id": "df966e4c",
   "metadata": {},
   "source": [
    "*Columns with na values replace with 'No Answer'*\n",
    "- Campaign\n",
    "- Ad_Format \n",
    "- Audience\n",
    "- Creative_Family\n",
    "- Creative_Version"
   ]
  },
  {
   "cell_type": "code",
   "execution_count": 19,
   "id": "f15aedf1",
   "metadata": {},
   "outputs": [],
   "source": [
    "# Replace columns having na values with 'No Answer'\n",
    "df['Campaign'].fillna('No Answer', inplace=True)\n",
    "df['Ad_Format'].fillna('No Answer', inplace=True)\n",
    "df['Audience'].fillna('No Answer', inplace=True)\n",
    "df['Creative_Family'].fillna('No Answer', inplace=True)\n",
    "df['Creative_Version'].fillna('No Answer', inplace=True)"
   ]
  },
  {
   "cell_type": "code",
   "execution_count": 20,
   "id": "3332e362",
   "metadata": {},
   "outputs": [
    {
     "data": {
      "text/plain": [
       "Campaign              0\n",
       "Ad_Format             0\n",
       "Clicks                0\n",
       "Date                  0\n",
       "Impressions           0\n",
       "Reach                 0\n",
       "Audience              0\n",
       "Platform              0\n",
       "Creative_Family       0\n",
       "Creative_Version      0\n",
       "100%_Video_Views      0\n",
       "Video_Starts          0\n",
       "Follows               0\n",
       "CTR                   0\n",
       "CTR_Score             0\n",
       "Weighted_CTR_Score    0\n",
       "Spend                 0\n",
       "dtype: int64"
      ]
     },
     "execution_count": 20,
     "metadata": {},
     "output_type": "execute_result"
    }
   ],
   "source": [
    "# Determine sum of missing values\n",
    "df.isna().sum()"
   ]
  },
  {
   "cell_type": "code",
   "execution_count": 21,
   "id": "62b8666f",
   "metadata": {},
   "outputs": [
    {
     "data": {
      "text/plain": [
       "CloserTwins                      38332\n",
       "UnfairAdvantage                  38183\n",
       "CloseFaster                      15449\n",
       "SEM Ads                           8613\n",
       "No Answer                          883\n",
       "CompetitiveOpportunity             114\n",
       "Carousel Ad1                        20\n",
       "Ad1 Domain                          20\n",
       "Ad1 audience 1                      12\n",
       "Carousel Ad1 - CRM Audience 1       10\n",
       "Ad1                                  8\n",
       "Carousel Ad2 - CRM Audience 2        8\n",
       "Carousel Ad1 - CRM Audience3         7\n",
       "Ad1 Audience 3 CRM                   7\n",
       "Name: Creative_Family, dtype: int64"
      ]
     },
     "execution_count": 21,
     "metadata": {},
     "output_type": "execute_result"
    }
   ],
   "source": [
    "# Determine the types of 'Creative_Family'\n",
    "df['Creative_Family'].value_counts()"
   ]
  },
  {
   "cell_type": "markdown",
   "id": "fee41f45",
   "metadata": {},
   "source": [
    "#### Check the data for the allowed list of 'Creative_Family' values "
   ]
  },
  {
   "cell_type": "code",
   "execution_count": 22,
   "id": "1e4e4be1",
   "metadata": {},
   "outputs": [
    {
     "data": {
      "text/plain": [
       "CloserTwins               38332\n",
       "UnfairAdvantage           38183\n",
       "CloseFaster               15449\n",
       "SEM Ads                    8613\n",
       "Other                       975\n",
       "CompetitiveOpportunity      114\n",
       "Name: Creative_Family, dtype: int64"
      ]
     },
     "execution_count": 22,
     "metadata": {},
     "output_type": "execute_result"
    }
   ],
   "source": [
    "# Replace all values not in the allowed list of Creative family to 'Other'\n",
    "allowed_vals = ['CloserTwins','UnfairAdvantage','CloseFaster','SEM Ads','CompetitiveOpportunity']\n",
    "\n",
    "df.loc[~df['Creative_Family'].isin(allowed_vals), 'Creative_Family'] = \"Other\"\n",
    "\n",
    "# Verify the 'Creative_Family' types\n",
    "df['Creative_Family'].value_counts()"
   ]
  },
  {
   "cell_type": "code",
   "execution_count": 23,
   "id": "d9361c09",
   "metadata": {},
   "outputs": [],
   "source": [
    "# campaign_dict ={'CloserTwins':'CloserTwins', 'UnfairAdvantage':'UnfairAdvantage', \n",
    "#                 'CloseFaster':'CloseFaster', 'SEM Ads':'SEM Ads', \n",
    "#                 'No Answer':'Other', \n",
    "#                 'CompetitiveOpportunity':'CompetitiveOpportunity', \n",
    "#                 'Other':'Other', 'Ad1 Domain':'Other', 'Carousel Ad1':'Other', \n",
    "#                 'Ad1 audience 1':'Other', 'Carousel Ad1 - CRM Audience 1':'Other',\n",
    "#                 'Ad1 Audience 3 CRM':'Other', 'Ad1':'Other', \n",
    "#                 'Carousel Ad1 - CRM Audience3':'Other', \n",
    "#                 'Carousel Ad2 - CRM Audience 2':'Other'}\n",
    " \n",
    "# # Add a new column named 'Campaign_Name'\n",
    "# df['Campaign_Name'] = df['Creative_Family'].map(campaign_dict)\n",
    "# df.Campaign_Name.value_counts()"
   ]
  },
  {
   "cell_type": "code",
   "execution_count": 24,
   "id": "41ae1d15",
   "metadata": {},
   "outputs": [
    {
     "data": {
      "text/plain": [
       "Display                  45183\n",
       "Native                   15283\n",
       "CPC                       8613\n",
       "Single image              7878\n",
       "Video                     7161\n",
       "TV                        6806\n",
       "MOBILE                    2776\n",
       "Audio                     2488\n",
       "TABLET                    1912\n",
       "Display - Interactive     1459\n",
       "Carousel                  1334\n",
       "DESKTOP                    383\n",
       "Follower ads               291\n",
       "No Answer                   71\n",
       "No lock campaign            28\n",
       "Name: Ad_Format, dtype: int64"
      ]
     },
     "execution_count": 24,
     "metadata": {},
     "output_type": "execute_result"
    }
   ],
   "source": [
    "# Determine types of Ad_Formats\n",
    "df['Ad_Format'].value_counts()"
   ]
  },
  {
   "cell_type": "code",
   "execution_count": 25,
   "id": "34b03003",
   "metadata": {},
   "outputs": [],
   "source": [
    "# Ad_Format = No lock campaign is invalid.\n",
    "# Ad_Format= 'No lock campaign' checked against Campaign to replace with correct ad format. \n",
    "df.loc[df['Campaign'].str.contains(pat='No Lock Campaign - Carousel'), 'Ad_Format'] = 'Carousel'\n",
    "df.loc[df['Campaign'].str.contains(pat='No Lock Campaign - Single DSC'), 'Ad_Format'] = 'Single image'\n",
    "df.drop(df[df['Ad_Format'] == 'No lock campaign'].index, inplace=True)"
   ]
  },
  {
   "cell_type": "code",
   "execution_count": 26,
   "id": "83767935",
   "metadata": {},
   "outputs": [
    {
     "data": {
      "text/plain": [
       "Display                  45183\n",
       "Native                   15283\n",
       "CPC                       8613\n",
       "Single image              7889\n",
       "Video                     7161\n",
       "TV                        6806\n",
       "MOBILE                    2776\n",
       "Audio                     2488\n",
       "TABLET                    1912\n",
       "Display - Interactive     1459\n",
       "Carousel                  1349\n",
       "DESKTOP                    383\n",
       "Follower ads               291\n",
       "No Answer                   71\n",
       "Name: Ad_Format, dtype: int64"
      ]
     },
     "execution_count": 26,
     "metadata": {},
     "output_type": "execute_result"
    }
   ],
   "source": [
    "# Types of 'Ad_Formats'\n",
    "df['Ad_Format'].value_counts()"
   ]
  },
  {
   "cell_type": "code",
   "execution_count": 27,
   "id": "f717bd45",
   "metadata": {},
   "outputs": [
    {
     "name": "stdout",
     "output_type": "stream",
     "text": [
      "(101664, 17)\n"
     ]
    },
    {
     "data": {
      "text/html": [
       "<div>\n",
       "<style scoped>\n",
       "    .dataframe tbody tr th:only-of-type {\n",
       "        vertical-align: middle;\n",
       "    }\n",
       "\n",
       "    .dataframe tbody tr th {\n",
       "        vertical-align: top;\n",
       "    }\n",
       "\n",
       "    .dataframe thead th {\n",
       "        text-align: right;\n",
       "    }\n",
       "</style>\n",
       "<table border=\"1\" class=\"dataframe\">\n",
       "  <thead>\n",
       "    <tr style=\"text-align: right;\">\n",
       "      <th></th>\n",
       "      <th>Clicks</th>\n",
       "      <th>Impressions</th>\n",
       "      <th>Reach</th>\n",
       "      <th>100%_Video_Views</th>\n",
       "      <th>Video_Starts</th>\n",
       "      <th>Follows</th>\n",
       "      <th>CTR</th>\n",
       "      <th>CTR_Score</th>\n",
       "      <th>Weighted_CTR_Score</th>\n",
       "      <th>Spend</th>\n",
       "    </tr>\n",
       "  </thead>\n",
       "  <tbody>\n",
       "    <tr>\n",
       "      <th>count</th>\n",
       "      <td>101664.000000</td>\n",
       "      <td>101664.000000</td>\n",
       "      <td>101664.000000</td>\n",
       "      <td>101664.000000</td>\n",
       "      <td>101664.000000</td>\n",
       "      <td>101664.000000</td>\n",
       "      <td>101664.000000</td>\n",
       "      <td>101664.000000</td>\n",
       "      <td>101664.000000</td>\n",
       "      <td>101664.000000</td>\n",
       "    </tr>\n",
       "    <tr>\n",
       "      <th>mean</th>\n",
       "      <td>0.663234</td>\n",
       "      <td>463.438080</td>\n",
       "      <td>144.579645</td>\n",
       "      <td>24.197858</td>\n",
       "      <td>37.498810</td>\n",
       "      <td>0.004731</td>\n",
       "      <td>0.012344</td>\n",
       "      <td>0.471480</td>\n",
       "      <td>244.685385</td>\n",
       "      <td>7.209050</td>\n",
       "    </tr>\n",
       "    <tr>\n",
       "      <th>std</th>\n",
       "      <td>3.327004</td>\n",
       "      <td>1565.548992</td>\n",
       "      <td>535.142843</td>\n",
       "      <td>225.875831</td>\n",
       "      <td>339.238525</td>\n",
       "      <td>0.141750</td>\n",
       "      <td>0.083078</td>\n",
       "      <td>0.410827</td>\n",
       "      <td>906.281370</td>\n",
       "      <td>41.098153</td>\n",
       "    </tr>\n",
       "    <tr>\n",
       "      <th>min</th>\n",
       "      <td>0.000000</td>\n",
       "      <td>0.000000</td>\n",
       "      <td>0.000000</td>\n",
       "      <td>0.000000</td>\n",
       "      <td>0.000000</td>\n",
       "      <td>0.000000</td>\n",
       "      <td>0.000000</td>\n",
       "      <td>0.000000</td>\n",
       "      <td>0.000000</td>\n",
       "      <td>0.000000</td>\n",
       "    </tr>\n",
       "    <tr>\n",
       "      <th>25%</th>\n",
       "      <td>0.000000</td>\n",
       "      <td>10.000000</td>\n",
       "      <td>1.000000</td>\n",
       "      <td>0.000000</td>\n",
       "      <td>0.000000</td>\n",
       "      <td>0.000000</td>\n",
       "      <td>0.000000</td>\n",
       "      <td>0.000000</td>\n",
       "      <td>0.000000</td>\n",
       "      <td>0.101180</td>\n",
       "    </tr>\n",
       "    <tr>\n",
       "      <th>50%</th>\n",
       "      <td>0.000000</td>\n",
       "      <td>54.000000</td>\n",
       "      <td>8.000000</td>\n",
       "      <td>0.000000</td>\n",
       "      <td>0.000000</td>\n",
       "      <td>0.000000</td>\n",
       "      <td>0.000000</td>\n",
       "      <td>0.500000</td>\n",
       "      <td>14.500000</td>\n",
       "      <td>0.593024</td>\n",
       "    </tr>\n",
       "    <tr>\n",
       "      <th>75%</th>\n",
       "      <td>0.000000</td>\n",
       "      <td>285.000000</td>\n",
       "      <td>59.000000</td>\n",
       "      <td>0.000000</td>\n",
       "      <td>0.000000</td>\n",
       "      <td>0.000000</td>\n",
       "      <td>0.000000</td>\n",
       "      <td>0.500000</td>\n",
       "      <td>137.500000</td>\n",
       "      <td>3.220327</td>\n",
       "    </tr>\n",
       "    <tr>\n",
       "      <th>max</th>\n",
       "      <td>573.000000</td>\n",
       "      <td>59784.000000</td>\n",
       "      <td>16601.000000</td>\n",
       "      <td>14173.000000</td>\n",
       "      <td>19635.000000</td>\n",
       "      <td>11.000000</td>\n",
       "      <td>2.000000</td>\n",
       "      <td>1.500000</td>\n",
       "      <td>82870.500000</td>\n",
       "      <td>3642.180000</td>\n",
       "    </tr>\n",
       "  </tbody>\n",
       "</table>\n",
       "</div>"
      ],
      "text/plain": [
       "              Clicks    Impressions          Reach  100%_Video_Views  \\\n",
       "count  101664.000000  101664.000000  101664.000000     101664.000000   \n",
       "mean        0.663234     463.438080     144.579645         24.197858   \n",
       "std         3.327004    1565.548992     535.142843        225.875831   \n",
       "min         0.000000       0.000000       0.000000          0.000000   \n",
       "25%         0.000000      10.000000       1.000000          0.000000   \n",
       "50%         0.000000      54.000000       8.000000          0.000000   \n",
       "75%         0.000000     285.000000      59.000000          0.000000   \n",
       "max       573.000000   59784.000000   16601.000000      14173.000000   \n",
       "\n",
       "        Video_Starts        Follows            CTR      CTR_Score  \\\n",
       "count  101664.000000  101664.000000  101664.000000  101664.000000   \n",
       "mean       37.498810       0.004731       0.012344       0.471480   \n",
       "std       339.238525       0.141750       0.083078       0.410827   \n",
       "min         0.000000       0.000000       0.000000       0.000000   \n",
       "25%         0.000000       0.000000       0.000000       0.000000   \n",
       "50%         0.000000       0.000000       0.000000       0.500000   \n",
       "75%         0.000000       0.000000       0.000000       0.500000   \n",
       "max     19635.000000      11.000000       2.000000       1.500000   \n",
       "\n",
       "       Weighted_CTR_Score          Spend  \n",
       "count       101664.000000  101664.000000  \n",
       "mean           244.685385       7.209050  \n",
       "std            906.281370      41.098153  \n",
       "min              0.000000       0.000000  \n",
       "25%              0.000000       0.101180  \n",
       "50%             14.500000       0.593024  \n",
       "75%            137.500000       3.220327  \n",
       "max          82870.500000    3642.180000  "
      ]
     },
     "execution_count": 27,
     "metadata": {},
     "output_type": "execute_result"
    }
   ],
   "source": [
    "# Shape of the dataframe after cleaning\n",
    "print(df.shape)\n",
    "\n",
    "# Describe the data\n",
    "df.describe()"
   ]
  },
  {
   "cell_type": "code",
   "execution_count": 28,
   "id": "c4249080",
   "metadata": {},
   "outputs": [
    {
     "data": {
      "text/plain": [
       "General Targetting    21681\n",
       "4                     20574\n",
       "1                     16472\n",
       "3                     15996\n",
       "5                     14339\n",
       "2                     12559\n",
       "No Answer                41\n",
       "Domain Targeting          2\n",
       "Name: Audience, dtype: int64"
      ]
     },
     "execution_count": 28,
     "metadata": {},
     "output_type": "execute_result"
    }
   ],
   "source": [
    "df['Audience'].value_counts()"
   ]
  },
  {
   "cell_type": "code",
   "execution_count": 29,
   "id": "05a1e1f8",
   "metadata": {},
   "outputs": [
    {
     "data": {
      "text/html": [
       "<div>\n",
       "<style scoped>\n",
       "    .dataframe tbody tr th:only-of-type {\n",
       "        vertical-align: middle;\n",
       "    }\n",
       "\n",
       "    .dataframe tbody tr th {\n",
       "        vertical-align: top;\n",
       "    }\n",
       "\n",
       "    .dataframe thead th {\n",
       "        text-align: right;\n",
       "    }\n",
       "</style>\n",
       "<table border=\"1\" class=\"dataframe\">\n",
       "  <thead>\n",
       "    <tr style=\"text-align: right;\">\n",
       "      <th></th>\n",
       "      <th>Campaign</th>\n",
       "      <th>Ad_Format</th>\n",
       "      <th>Clicks</th>\n",
       "      <th>Date</th>\n",
       "      <th>Impressions</th>\n",
       "      <th>Reach</th>\n",
       "      <th>Audience</th>\n",
       "      <th>Platform</th>\n",
       "      <th>Creative_Family</th>\n",
       "      <th>Creative_Version</th>\n",
       "      <th>100%_Video_Views</th>\n",
       "      <th>Video_Starts</th>\n",
       "      <th>Follows</th>\n",
       "      <th>CTR</th>\n",
       "      <th>CTR_Score</th>\n",
       "      <th>Weighted_CTR_Score</th>\n",
       "      <th>Spend</th>\n",
       "    </tr>\n",
       "  </thead>\n",
       "  <tbody>\n",
       "    <tr>\n",
       "      <th>62337</th>\n",
       "      <td>Domain Targeting - No Lock Campaign - Single D...</td>\n",
       "      <td>Single image</td>\n",
       "      <td>42</td>\n",
       "      <td>2022-09-06</td>\n",
       "      <td>8130</td>\n",
       "      <td>0</td>\n",
       "      <td>Domain Targeting</td>\n",
       "      <td>LinkedIn</td>\n",
       "      <td>Other</td>\n",
       "      <td>No Answer</td>\n",
       "      <td>0</td>\n",
       "      <td>0</td>\n",
       "      <td>0</td>\n",
       "      <td>0.005166</td>\n",
       "      <td>1.5</td>\n",
       "      <td>12195.0</td>\n",
       "      <td>1914.60</td>\n",
       "    </tr>\n",
       "    <tr>\n",
       "      <th>62451</th>\n",
       "      <td>Domain Targeting - No Lock Campaign - Carousel...</td>\n",
       "      <td>Carousel</td>\n",
       "      <td>4</td>\n",
       "      <td>2022-09-06</td>\n",
       "      <td>665</td>\n",
       "      <td>0</td>\n",
       "      <td>Domain Targeting</td>\n",
       "      <td>LinkedIn</td>\n",
       "      <td>Other</td>\n",
       "      <td>No Answer</td>\n",
       "      <td>0</td>\n",
       "      <td>0</td>\n",
       "      <td>0</td>\n",
       "      <td>0.006015</td>\n",
       "      <td>1.5</td>\n",
       "      <td>997.5</td>\n",
       "      <td>146.83</td>\n",
       "    </tr>\n",
       "  </tbody>\n",
       "</table>\n",
       "</div>"
      ],
      "text/plain": [
       "                                                Campaign     Ad_Format  \\\n",
       "62337  Domain Targeting - No Lock Campaign - Single D...  Single image   \n",
       "62451  Domain Targeting - No Lock Campaign - Carousel...      Carousel   \n",
       "\n",
       "       Clicks       Date  Impressions  Reach          Audience  Platform  \\\n",
       "62337      42 2022-09-06         8130      0  Domain Targeting  LinkedIn   \n",
       "62451       4 2022-09-06          665      0  Domain Targeting  LinkedIn   \n",
       "\n",
       "      Creative_Family Creative_Version  100%_Video_Views  Video_Starts  \\\n",
       "62337           Other        No Answer                 0             0   \n",
       "62451           Other        No Answer                 0             0   \n",
       "\n",
       "       Follows       CTR  CTR_Score  Weighted_CTR_Score    Spend  \n",
       "62337        0  0.005166        1.5             12195.0  1914.60  \n",
       "62451        0  0.006015        1.5               997.5   146.83  "
      ]
     },
     "execution_count": 29,
     "metadata": {},
     "output_type": "execute_result"
    }
   ],
   "source": [
    "df.loc[df['Audience'] == 'Domain Targeting']"
   ]
  },
  {
   "cell_type": "markdown",
   "id": "f9ae01a5",
   "metadata": {},
   "source": [
    "Audience = 'Domain Targeting' has only 2 rows. These are ignored as we do not know which target group they belong to."
   ]
  },
  {
   "cell_type": "markdown",
   "id": "6bf4d506",
   "metadata": {},
   "source": [
    "#### Map the'Audience' data to Target Groups as specified in the business objective"
   ]
  },
  {
   "cell_type": "code",
   "execution_count": 30,
   "id": "120799b4",
   "metadata": {},
   "outputs": [],
   "source": [
    "# Create new column Target_Group and assign Audience as per target group\n",
    "audience_dict ={'1':'1', '2':'1', '3':'1',\n",
    "               '4':'2', '5':'2',\n",
    "               'General Targetting':'3'\n",
    "               }\n",
    " \n",
    "# Add a new column named 'Target_Group'\n",
    "df['Target_Group'] = df['Audience'].map(audience_dict)"
   ]
  },
  {
   "cell_type": "code",
   "execution_count": 31,
   "id": "134ab7fb",
   "metadata": {},
   "outputs": [
    {
     "data": {
      "text/plain": [
       "1    45027\n",
       "2    34913\n",
       "3    21681\n",
       "Name: Target_Group, dtype: int64"
      ]
     },
     "execution_count": 31,
     "metadata": {},
     "output_type": "execute_result"
    }
   ],
   "source": [
    "# Count of different target groups across the data\n",
    "df['Target_Group'].value_counts()"
   ]
  },
  {
   "cell_type": "code",
   "execution_count": 32,
   "id": "c2b5d92f",
   "metadata": {},
   "outputs": [],
   "source": [
    "# Write the cleaned dataset on to a csv file\n",
    "#df.to_csv('creative_data_cleaned.csv', index=False)"
   ]
  },
  {
   "cell_type": "code",
   "execution_count": null,
   "id": "d43f0038",
   "metadata": {},
   "outputs": [],
   "source": []
  },
  {
   "cell_type": "markdown",
   "id": "386d0b12",
   "metadata": {},
   "source": [
    "## Exploratory Data Analysis"
   ]
  },
  {
   "cell_type": "code",
   "execution_count": 33,
   "id": "84cb016b",
   "metadata": {},
   "outputs": [
    {
     "data": {
      "text/html": [
       "<div>\n",
       "<style scoped>\n",
       "    .dataframe tbody tr th:only-of-type {\n",
       "        vertical-align: middle;\n",
       "    }\n",
       "\n",
       "    .dataframe tbody tr th {\n",
       "        vertical-align: top;\n",
       "    }\n",
       "\n",
       "    .dataframe thead th {\n",
       "        text-align: right;\n",
       "    }\n",
       "</style>\n",
       "<table border=\"1\" class=\"dataframe\">\n",
       "  <thead>\n",
       "    <tr style=\"text-align: right;\">\n",
       "      <th></th>\n",
       "      <th>Creative_Family</th>\n",
       "      <th>Target_Group</th>\n",
       "      <th>Impressions</th>\n",
       "    </tr>\n",
       "  </thead>\n",
       "  <tbody>\n",
       "    <tr>\n",
       "      <th>8</th>\n",
       "      <td>UnfairAdvantage</td>\n",
       "      <td>2</td>\n",
       "      <td>14590307</td>\n",
       "    </tr>\n",
       "    <tr>\n",
       "      <th>3</th>\n",
       "      <td>CloserTwins</td>\n",
       "      <td>2</td>\n",
       "      <td>9812880</td>\n",
       "    </tr>\n",
       "    <tr>\n",
       "      <th>4</th>\n",
       "      <td>CloserTwins</td>\n",
       "      <td>3</td>\n",
       "      <td>7397016</td>\n",
       "    </tr>\n",
       "    <tr>\n",
       "      <th>1</th>\n",
       "      <td>CloseFaster</td>\n",
       "      <td>2</td>\n",
       "      <td>4269441</td>\n",
       "    </tr>\n",
       "    <tr>\n",
       "      <th>7</th>\n",
       "      <td>UnfairAdvantage</td>\n",
       "      <td>1</td>\n",
       "      <td>4093042</td>\n",
       "    </tr>\n",
       "    <tr>\n",
       "      <th>2</th>\n",
       "      <td>CloserTwins</td>\n",
       "      <td>1</td>\n",
       "      <td>2708066</td>\n",
       "    </tr>\n",
       "    <tr>\n",
       "      <th>0</th>\n",
       "      <td>CloseFaster</td>\n",
       "      <td>1</td>\n",
       "      <td>1805930</td>\n",
       "    </tr>\n",
       "    <tr>\n",
       "      <th>5</th>\n",
       "      <td>CompetitiveOpportunity</td>\n",
       "      <td>3</td>\n",
       "      <td>276361</td>\n",
       "    </tr>\n",
       "    <tr>\n",
       "      <th>6</th>\n",
       "      <td>SEM Ads</td>\n",
       "      <td>3</td>\n",
       "      <td>66693</td>\n",
       "    </tr>\n",
       "  </tbody>\n",
       "</table>\n",
       "</div>"
      ],
      "text/plain": [
       "          Creative_Family Target_Group  Impressions\n",
       "8         UnfairAdvantage            2     14590307\n",
       "3             CloserTwins            2      9812880\n",
       "4             CloserTwins            3      7397016\n",
       "1             CloseFaster            2      4269441\n",
       "7         UnfairAdvantage            1      4093042\n",
       "2             CloserTwins            1      2708066\n",
       "0             CloseFaster            1      1805930\n",
       "5  CompetitiveOpportunity            3       276361\n",
       "6                 SEM Ads            3        66693"
      ]
     },
     "execution_count": 33,
     "metadata": {},
     "output_type": "execute_result"
    }
   ],
   "source": [
    "# Grouping the data based on Creative_Family across the target groups to determine the 'Impressions'\n",
    "family_tg = df.loc[(df['Creative_Family']!= 'Other') & (df['Creative_Family']!='No Answer')].\\\n",
    "groupby(['Creative_Family', 'Target_Group'])['Impressions'].sum().reset_index().\\\n",
    "sort_values(by='Impressions',ascending=False)\n",
    "family_tg"
   ]
  },
  {
   "cell_type": "code",
   "execution_count": 34,
   "id": "d4ae0b4f",
   "metadata": {},
   "outputs": [
    {
     "data": {
      "image/png": "[encoded data removed]",
      "text/plain": [
       "<Figure size 864x576 with 1 Axes>"
      ]
     },
     "metadata": {},
     "output_type": "display_data"
    }
   ],
   "source": [
    "# Plot the family_tg dataframe\n",
    "sns.barplot(x='Creative_Family',y = 'Impressions', hue = 'Target_Group', data = family_tg, palette = 'rocket')\n",
    "plt.xlabel('Creative Family',fontsize = 16)\n",
    "plt.ylabel('Total Impressions', fontsize=16)\n",
    "plt.title('Creative_Family Vs Total Impressions across Target Groups', fontsize=20)\n",
    "plt.tick_params(axis='both', which='major', labelsize=12)"
   ]
  },
  {
   "cell_type": "code",
   "execution_count": 35,
   "id": "ff29bb69",
   "metadata": {},
   "outputs": [
    {
     "data": {
      "text/html": [
       "<div>\n",
       "<style scoped>\n",
       "    .dataframe tbody tr th:only-of-type {\n",
       "        vertical-align: middle;\n",
       "    }\n",
       "\n",
       "    .dataframe tbody tr th {\n",
       "        vertical-align: top;\n",
       "    }\n",
       "\n",
       "    .dataframe thead th {\n",
       "        text-align: right;\n",
       "    }\n",
       "</style>\n",
       "<table border=\"1\" class=\"dataframe\">\n",
       "  <thead>\n",
       "    <tr style=\"text-align: right;\">\n",
       "      <th></th>\n",
       "      <th>Platform</th>\n",
       "      <th>Target_Group</th>\n",
       "      <th>Impressions</th>\n",
       "    </tr>\n",
       "  </thead>\n",
       "  <tbody>\n",
       "    <tr>\n",
       "      <th>1</th>\n",
       "      <td>Domain Display</td>\n",
       "      <td>2</td>\n",
       "      <td>19564371</td>\n",
       "    </tr>\n",
       "    <tr>\n",
       "      <th>9</th>\n",
       "      <td>OTT</td>\n",
       "      <td>3</td>\n",
       "      <td>7348177</td>\n",
       "    </tr>\n",
       "    <tr>\n",
       "      <th>12</th>\n",
       "      <td>User ID Display</td>\n",
       "      <td>2</td>\n",
       "      <td>5998098</td>\n",
       "    </tr>\n",
       "    <tr>\n",
       "      <th>11</th>\n",
       "      <td>User ID Display</td>\n",
       "      <td>1</td>\n",
       "      <td>5033150</td>\n",
       "    </tr>\n",
       "    <tr>\n",
       "      <th>7</th>\n",
       "      <td>LinkedIn</td>\n",
       "      <td>2</td>\n",
       "      <td>3165406</td>\n",
       "    </tr>\n",
       "    <tr>\n",
       "      <th>0</th>\n",
       "      <td>Domain Display</td>\n",
       "      <td>1</td>\n",
       "      <td>2739642</td>\n",
       "    </tr>\n",
       "    <tr>\n",
       "      <th>8</th>\n",
       "      <td>LinkedIn</td>\n",
       "      <td>3</td>\n",
       "      <td>1347888</td>\n",
       "    </tr>\n",
       "    <tr>\n",
       "      <th>10</th>\n",
       "      <td>Trade Media</td>\n",
       "      <td>3</td>\n",
       "      <td>566118</td>\n",
       "    </tr>\n",
       "    <tr>\n",
       "      <th>6</th>\n",
       "      <td>LinkedIn</td>\n",
       "      <td>1</td>\n",
       "      <td>516285</td>\n",
       "    </tr>\n",
       "    <tr>\n",
       "      <th>3</th>\n",
       "      <td>Facebook</td>\n",
       "      <td>1</td>\n",
       "      <td>262991</td>\n",
       "    </tr>\n",
       "    <tr>\n",
       "      <th>2</th>\n",
       "      <td>Domain Display</td>\n",
       "      <td>3</td>\n",
       "      <td>262110</td>\n",
       "    </tr>\n",
       "    <tr>\n",
       "      <th>4</th>\n",
       "      <td>Google SEM</td>\n",
       "      <td>3</td>\n",
       "      <td>66693</td>\n",
       "    </tr>\n",
       "    <tr>\n",
       "      <th>5</th>\n",
       "      <td>Instagram</td>\n",
       "      <td>1</td>\n",
       "      <td>56001</td>\n",
       "    </tr>\n",
       "  </tbody>\n",
       "</table>\n",
       "</div>"
      ],
      "text/plain": [
       "           Platform Target_Group  Impressions\n",
       "1    Domain Display            2     19564371\n",
       "9               OTT            3      7348177\n",
       "12  User ID Display            2      5998098\n",
       "11  User ID Display            1      5033150\n",
       "7          LinkedIn            2      3165406\n",
       "0    Domain Display            1      2739642\n",
       "8          LinkedIn            3      1347888\n",
       "10      Trade Media            3       566118\n",
       "6          LinkedIn            1       516285\n",
       "3          Facebook            1       262991\n",
       "2    Domain Display            3       262110\n",
       "4        Google SEM            3        66693\n",
       "5         Instagram            1        56001"
      ]
     },
     "execution_count": 35,
     "metadata": {},
     "output_type": "execute_result"
    }
   ],
   "source": [
    "# Grouping based on 'Platform' and 'Target_Group' to determine sum of 'Impressions'\n",
    "platform_tg = df.groupby(['Platform', 'Target_Group'])['Impressions'].\\\n",
    "sum().reset_index().sort_values(by='Impressions', ascending=False)\n",
    "platform_tg"
   ]
  },
  {
   "cell_type": "code",
   "execution_count": 36,
   "id": "3f645605",
   "metadata": {},
   "outputs": [
    {
     "data": {
      "image/png": "[encoded data removed]",
      "text/plain": [
       "<Figure size 864x576 with 1 Axes>"
      ]
     },
     "metadata": {},
     "output_type": "display_data"
    }
   ],
   "source": [
    "# Plot the platform_tg dataframe\n",
    "sns.barplot(x='Platform',y = 'Impressions', hue = 'Target_Group', data = platform_tg)\n",
    "plt.xlabel('Platform',fontsize = 16)\n",
    "plt.ylabel('Total Impressions', fontsize=16)\n",
    "plt.title('Platform Vs Total Impressions across Target groups', fontsize=20)\n",
    "plt.tick_params(axis='both', which='major', labelsize=12)"
   ]
  },
  {
   "cell_type": "code",
   "execution_count": 37,
   "id": "e2fc37fe",
   "metadata": {},
   "outputs": [
    {
     "data": {
      "text/plain": [
       "<AxesSubplot:xlabel='Date', ylabel='Clicks'>"
      ]
     },
     "execution_count": 37,
     "metadata": {},
     "output_type": "execute_result"
    },
    {
     "data": {
      "image/png": "[encoded data removed]",
      "text/plain": [
       "<Figure size 864x576 with 1 Axes>"
      ]
     },
     "metadata": {},
     "output_type": "display_data"
    }
   ],
   "source": [
    "# Determine the number of clicks per creative family monthwise\n",
    "df_date = df.groupby([df['Date'].dt.month,'Creative_Family'])['Clicks'].sum().reset_index()\n",
    "df_date\n",
    "\n",
    "# Plot a line plote\n",
    "sns.lineplot(x='Date', y = 'Clicks', hue='Creative_Family', data = df_date)"
   ]
  },
  {
   "cell_type": "markdown",
   "id": "47ec02d4",
   "metadata": {},
   "source": [
    "- There is a spike in 'Clicks' for 'unfariAdvantage' in October 2022\n",
    "- 'CloserTwins' had a spike in May and it went down until August\n"
   ]
  },
  {
   "cell_type": "code",
   "execution_count": 38,
   "id": "9001d0d9",
   "metadata": {},
   "outputs": [
    {
     "data": {
      "text/html": [
       "<div>\n",
       "<style scoped>\n",
       "    .dataframe tbody tr th:only-of-type {\n",
       "        vertical-align: middle;\n",
       "    }\n",
       "\n",
       "    .dataframe tbody tr th {\n",
       "        vertical-align: top;\n",
       "    }\n",
       "\n",
       "    .dataframe thead th {\n",
       "        text-align: right;\n",
       "    }\n",
       "</style>\n",
       "<table border=\"1\" class=\"dataframe\">\n",
       "  <thead>\n",
       "    <tr style=\"text-align: right;\">\n",
       "      <th></th>\n",
       "      <th>Clicks</th>\n",
       "      <th>Impressions</th>\n",
       "      <th>Reach</th>\n",
       "      <th>100%_Video_Views</th>\n",
       "      <th>Video_Starts</th>\n",
       "      <th>Follows</th>\n",
       "      <th>CTR</th>\n",
       "      <th>CTR_Score</th>\n",
       "      <th>Weighted_CTR_Score</th>\n",
       "      <th>Spend</th>\n",
       "    </tr>\n",
       "    <tr>\n",
       "      <th>Creative_Family</th>\n",
       "      <th></th>\n",
       "      <th></th>\n",
       "      <th></th>\n",
       "      <th></th>\n",
       "      <th></th>\n",
       "      <th></th>\n",
       "      <th></th>\n",
       "      <th></th>\n",
       "      <th></th>\n",
       "      <th></th>\n",
       "    </tr>\n",
       "  </thead>\n",
       "  <tbody>\n",
       "    <tr>\n",
       "      <th>CloseFaster</th>\n",
       "      <td>0.697845</td>\n",
       "      <td>393.253350</td>\n",
       "      <td>148.157292</td>\n",
       "      <td>0.000000</td>\n",
       "      <td>0.000000</td>\n",
       "      <td>0.0</td>\n",
       "      <td>0.003381</td>\n",
       "      <td>0.656580</td>\n",
       "      <td>283.046573</td>\n",
       "      <td>3.718318</td>\n",
       "    </tr>\n",
       "    <tr>\n",
       "      <th>CloserTwins</th>\n",
       "      <td>0.368856</td>\n",
       "      <td>519.617082</td>\n",
       "      <td>206.210138</td>\n",
       "      <td>64.177476</td>\n",
       "      <td>99.454216</td>\n",
       "      <td>0.0</td>\n",
       "      <td>0.001851</td>\n",
       "      <td>0.369287</td>\n",
       "      <td>192.846016</td>\n",
       "      <td>10.247836</td>\n",
       "    </tr>\n",
       "    <tr>\n",
       "      <th>CompetitiveOpportunity</th>\n",
       "      <td>3.271930</td>\n",
       "      <td>2424.219298</td>\n",
       "      <td>491.385965</td>\n",
       "      <td>0.000000</td>\n",
       "      <td>0.000000</td>\n",
       "      <td>0.0</td>\n",
       "      <td>0.001939</td>\n",
       "      <td>0.679825</td>\n",
       "      <td>1462.513158</td>\n",
       "      <td>28.605593</td>\n",
       "    </tr>\n",
       "    <tr>\n",
       "      <th>SEM Ads</th>\n",
       "      <td>1.443051</td>\n",
       "      <td>7.743295</td>\n",
       "      <td>0.000000</td>\n",
       "      <td>0.000000</td>\n",
       "      <td>0.000000</td>\n",
       "      <td>0.0</td>\n",
       "      <td>0.121078</td>\n",
       "      <td>0.000000</td>\n",
       "      <td>0.000000</td>\n",
       "      <td>1.007123</td>\n",
       "    </tr>\n",
       "    <tr>\n",
       "      <th>UnfairAdvantage</th>\n",
       "      <td>0.705497</td>\n",
       "      <td>489.310662</td>\n",
       "      <td>107.790064</td>\n",
       "      <td>0.000000</td>\n",
       "      <td>0.000000</td>\n",
       "      <td>0.0</td>\n",
       "      <td>0.002257</td>\n",
       "      <td>0.610520</td>\n",
       "      <td>312.981196</td>\n",
       "      <td>5.686906</td>\n",
       "    </tr>\n",
       "  </tbody>\n",
       "</table>\n",
       "</div>"
      ],
      "text/plain": [
       "                          Clicks  Impressions       Reach  100%_Video_Views  \\\n",
       "Creative_Family                                                               \n",
       "CloseFaster             0.697845   393.253350  148.157292          0.000000   \n",
       "CloserTwins             0.368856   519.617082  206.210138         64.177476   \n",
       "CompetitiveOpportunity  3.271930  2424.219298  491.385965          0.000000   \n",
       "SEM Ads                 1.443051     7.743295    0.000000          0.000000   \n",
       "UnfairAdvantage         0.705497   489.310662  107.790064          0.000000   \n",
       "\n",
       "                        Video_Starts  Follows       CTR  CTR_Score  \\\n",
       "Creative_Family                                                      \n",
       "CloseFaster                 0.000000      0.0  0.003381   0.656580   \n",
       "CloserTwins                99.454216      0.0  0.001851   0.369287   \n",
       "CompetitiveOpportunity      0.000000      0.0  0.001939   0.679825   \n",
       "SEM Ads                     0.000000      0.0  0.121078   0.000000   \n",
       "UnfairAdvantage             0.000000      0.0  0.002257   0.610520   \n",
       "\n",
       "                        Weighted_CTR_Score      Spend  \n",
       "Creative_Family                                        \n",
       "CloseFaster                     283.046573   3.718318  \n",
       "CloserTwins                     192.846016  10.247836  \n",
       "CompetitiveOpportunity         1462.513158  28.605593  \n",
       "SEM Ads                           0.000000   1.007123  \n",
       "UnfairAdvantage                 312.981196   5.686906  "
      ]
     },
     "execution_count": 38,
     "metadata": {},
     "output_type": "execute_result"
    }
   ],
   "source": [
    "# Determine mean of numeric values for all Creative Families\n",
    "df.loc[(df['Creative_Family']!='Other') & (df['Creative_Family']!='No Answer')].groupby('Creative_Family').mean()"
   ]
  },
  {
   "cell_type": "code",
   "execution_count": 39,
   "id": "f6cd54a1",
   "metadata": {},
   "outputs": [
    {
     "data": {
      "text/html": [
       "<div>\n",
       "<style scoped>\n",
       "    .dataframe tbody tr th:only-of-type {\n",
       "        vertical-align: middle;\n",
       "    }\n",
       "\n",
       "    .dataframe tbody tr th {\n",
       "        vertical-align: top;\n",
       "    }\n",
       "\n",
       "    .dataframe thead th {\n",
       "        text-align: right;\n",
       "    }\n",
       "</style>\n",
       "<table border=\"1\" class=\"dataframe\">\n",
       "  <thead>\n",
       "    <tr style=\"text-align: right;\">\n",
       "      <th></th>\n",
       "      <th>Target_Group</th>\n",
       "      <th>Spend</th>\n",
       "      <th>Spend%</th>\n",
       "    </tr>\n",
       "  </thead>\n",
       "  <tbody>\n",
       "    <tr>\n",
       "      <th>0</th>\n",
       "      <td>1</td>\n",
       "      <td>95231.226374</td>\n",
       "      <td>13.58</td>\n",
       "    </tr>\n",
       "    <tr>\n",
       "      <th>1</th>\n",
       "      <td>2</td>\n",
       "      <td>323236.933768</td>\n",
       "      <td>46.08</td>\n",
       "    </tr>\n",
       "    <tr>\n",
       "      <th>2</th>\n",
       "      <td>3</td>\n",
       "      <td>282974.028915</td>\n",
       "      <td>40.34</td>\n",
       "    </tr>\n",
       "  </tbody>\n",
       "</table>\n",
       "</div>"
      ],
      "text/plain": [
       "  Target_Group          Spend  Spend%\n",
       "0            1   95231.226374   13.58\n",
       "1            2  323236.933768   46.08\n",
       "2            3  282974.028915   40.34"
      ]
     },
     "execution_count": 39,
     "metadata": {},
     "output_type": "execute_result"
    }
   ],
   "source": [
    "# Total Spend and Spend % on each target group\n",
    "df_spend = df.groupby('Target_Group')['Spend'].sum().reset_index()\n",
    "df_spend['Spend%'] = ((df_spend['Spend']/df_spend['Spend'].sum()) * 100).round(2)\n",
    "df_spend"
   ]
  },
  {
   "cell_type": "code",
   "execution_count": 40,
   "id": "470dd1a7",
   "metadata": {},
   "outputs": [
    {
     "data": {
      "image/png": "[encoded data removed]",
      "text/plain": [
       "<Figure size 864x576 with 1 Axes>"
      ]
     },
     "metadata": {},
     "output_type": "display_data"
    }
   ],
   "source": [
    "# Plot to show the spend percentage across each target group\n",
    "sns.barplot(x = 'Target_Group', y = 'Spend', data = df_spend, palette='rocket')\n",
    "plt.xlabel('Target Groups',fontsize = 16)\n",
    "plt.ylabel('Total Spend', fontsize=16)\n",
    "plt.title('Total Spend across Target groups', fontsize=20)\n",
    "plt.tick_params(axis='both', which='major', labelsize=12)"
   ]
  },
  {
   "cell_type": "code",
   "execution_count": 41,
   "id": "02d3f34e",
   "metadata": {},
   "outputs": [
    {
     "data": {
      "image/png": "[encoded data removed]",
      "text/plain": [
       "<Figure size 864x576 with 1 Axes>"
      ]
     },
     "metadata": {},
     "output_type": "display_data"
    }
   ],
   "source": [
    "df_family_platform = df.loc[df['Target_Group']=='3'].groupby(['Platform','Creative_Family'])['Reach'].sum().reset_index()\n",
    "sns.barplot(y='Creative_Family',x = 'Reach', hue = 'Platform', data = df_family_platform)\n",
    "plt.xlabel('Reach',fontsize = 16)\n",
    "plt.ylabel('Creative_Family', fontsize=16)\n",
    "plt.title('Creative_Family Vs Total Reach - Platforms', fontsize=20)\n",
    "plt.tick_params(axis='both', which='major', labelsize=12)"
   ]
  },
  {
   "cell_type": "markdown",
   "id": "01413094",
   "metadata": {},
   "source": [
    "### Target Group dataframe subsets"
   ]
  },
  {
   "cell_type": "markdown",
   "id": "d6e1a47e",
   "metadata": {},
   "source": [
    "#### Target Group 1 subset"
   ]
  },
  {
   "cell_type": "code",
   "execution_count": 42,
   "id": "2e77cbfe",
   "metadata": {},
   "outputs": [
    {
     "data": {
      "text/html": [
       "<div>\n",
       "<style scoped>\n",
       "    .dataframe tbody tr th:only-of-type {\n",
       "        vertical-align: middle;\n",
       "    }\n",
       "\n",
       "    .dataframe tbody tr th {\n",
       "        vertical-align: top;\n",
       "    }\n",
       "\n",
       "    .dataframe thead th {\n",
       "        text-align: right;\n",
       "    }\n",
       "</style>\n",
       "<table border=\"1\" class=\"dataframe\">\n",
       "  <thead>\n",
       "    <tr style=\"text-align: right;\">\n",
       "      <th></th>\n",
       "      <th>Campaign</th>\n",
       "      <th>Ad_Format</th>\n",
       "      <th>Clicks</th>\n",
       "      <th>Date</th>\n",
       "      <th>Impressions</th>\n",
       "      <th>Reach</th>\n",
       "      <th>Audience</th>\n",
       "      <th>Platform</th>\n",
       "      <th>Creative_Family</th>\n",
       "      <th>Creative_Version</th>\n",
       "      <th>100%_Video_Views</th>\n",
       "      <th>Video_Starts</th>\n",
       "      <th>Follows</th>\n",
       "      <th>CTR</th>\n",
       "      <th>CTR_Score</th>\n",
       "      <th>Weighted_CTR_Score</th>\n",
       "      <th>Spend</th>\n",
       "      <th>Target_Group</th>\n",
       "    </tr>\n",
       "  </thead>\n",
       "  <tbody>\n",
       "    <tr>\n",
       "      <th>0</th>\n",
       "      <td>FY22</td>\n",
       "      <td>Single image</td>\n",
       "      <td>0</td>\n",
       "      <td>2022-05-19</td>\n",
       "      <td>119</td>\n",
       "      <td>63</td>\n",
       "      <td>1</td>\n",
       "      <td>Facebook</td>\n",
       "      <td>CloseFaster</td>\n",
       "      <td>NoDTI</td>\n",
       "      <td>0</td>\n",
       "      <td>0</td>\n",
       "      <td>0</td>\n",
       "      <td>0.000000</td>\n",
       "      <td>0.0</td>\n",
       "      <td>0.0</td>\n",
       "      <td>0.26</td>\n",
       "      <td>1</td>\n",
       "    </tr>\n",
       "    <tr>\n",
       "      <th>1</th>\n",
       "      <td>FY22</td>\n",
       "      <td>Single image</td>\n",
       "      <td>0</td>\n",
       "      <td>2022-05-19</td>\n",
       "      <td>9</td>\n",
       "      <td>8</td>\n",
       "      <td>1</td>\n",
       "      <td>Instagram</td>\n",
       "      <td>CloseFaster</td>\n",
       "      <td>NoDTI</td>\n",
       "      <td>0</td>\n",
       "      <td>0</td>\n",
       "      <td>0</td>\n",
       "      <td>0.000000</td>\n",
       "      <td>0.0</td>\n",
       "      <td>0.0</td>\n",
       "      <td>0.15</td>\n",
       "      <td>1</td>\n",
       "    </tr>\n",
       "    <tr>\n",
       "      <th>2</th>\n",
       "      <td>FY22</td>\n",
       "      <td>Single image</td>\n",
       "      <td>0</td>\n",
       "      <td>2022-05-19</td>\n",
       "      <td>26</td>\n",
       "      <td>17</td>\n",
       "      <td>1</td>\n",
       "      <td>Facebook</td>\n",
       "      <td>CloseFaster</td>\n",
       "      <td>NoDTI</td>\n",
       "      <td>0</td>\n",
       "      <td>0</td>\n",
       "      <td>0</td>\n",
       "      <td>0.000000</td>\n",
       "      <td>0.0</td>\n",
       "      <td>0.0</td>\n",
       "      <td>0.38</td>\n",
       "      <td>1</td>\n",
       "    </tr>\n",
       "    <tr>\n",
       "      <th>3</th>\n",
       "      <td>FY22</td>\n",
       "      <td>Single image</td>\n",
       "      <td>0</td>\n",
       "      <td>2022-05-19</td>\n",
       "      <td>12</td>\n",
       "      <td>10</td>\n",
       "      <td>1</td>\n",
       "      <td>Instagram</td>\n",
       "      <td>CloseFaster</td>\n",
       "      <td>NoDTI</td>\n",
       "      <td>0</td>\n",
       "      <td>0</td>\n",
       "      <td>0</td>\n",
       "      <td>0.000000</td>\n",
       "      <td>0.0</td>\n",
       "      <td>0.0</td>\n",
       "      <td>0.19</td>\n",
       "      <td>1</td>\n",
       "    </tr>\n",
       "    <tr>\n",
       "      <th>4</th>\n",
       "      <td>FY22</td>\n",
       "      <td>Single image</td>\n",
       "      <td>1</td>\n",
       "      <td>2022-05-19</td>\n",
       "      <td>247</td>\n",
       "      <td>150</td>\n",
       "      <td>1</td>\n",
       "      <td>Facebook</td>\n",
       "      <td>CloserTwins</td>\n",
       "      <td>EarlyBird</td>\n",
       "      <td>0</td>\n",
       "      <td>0</td>\n",
       "      <td>0</td>\n",
       "      <td>0.004049</td>\n",
       "      <td>0.0</td>\n",
       "      <td>0.0</td>\n",
       "      <td>3.62</td>\n",
       "      <td>1</td>\n",
       "    </tr>\n",
       "  </tbody>\n",
       "</table>\n",
       "</div>"
      ],
      "text/plain": [
       "  Campaign     Ad_Format  Clicks       Date  Impressions  Reach Audience  \\\n",
       "0     FY22  Single image       0 2022-05-19          119     63        1   \n",
       "1     FY22  Single image       0 2022-05-19            9      8        1   \n",
       "2     FY22  Single image       0 2022-05-19           26     17        1   \n",
       "3     FY22  Single image       0 2022-05-19           12     10        1   \n",
       "4     FY22  Single image       1 2022-05-19          247    150        1   \n",
       "\n",
       "    Platform Creative_Family Creative_Version  100%_Video_Views  Video_Starts  \\\n",
       "0   Facebook     CloseFaster            NoDTI                 0             0   \n",
       "1  Instagram     CloseFaster            NoDTI                 0             0   \n",
       "2   Facebook     CloseFaster            NoDTI                 0             0   \n",
       "3  Instagram     CloseFaster            NoDTI                 0             0   \n",
       "4   Facebook     CloserTwins        EarlyBird                 0             0   \n",
       "\n",
       "   Follows       CTR  CTR_Score  Weighted_CTR_Score  Spend Target_Group  \n",
       "0        0  0.000000        0.0                 0.0   0.26            1  \n",
       "1        0  0.000000        0.0                 0.0   0.15            1  \n",
       "2        0  0.000000        0.0                 0.0   0.38            1  \n",
       "3        0  0.000000        0.0                 0.0   0.19            1  \n",
       "4        0  0.004049        0.0                 0.0   3.62            1  "
      ]
     },
     "execution_count": 42,
     "metadata": {},
     "output_type": "execute_result"
    }
   ],
   "source": [
    "# Target_Group = 1\n",
    "tg1 = df.loc[df['Target_Group']=='1']\n",
    "#cols = ['Creative_Family','Ad_Format','Platform','Spend','Clicks', 'Impressions','Reach', \\\n",
    "       # 'CTR', 'CTR_Score', 'Weighted_CTR_Score','100%_Video_Views','Video_Starts','Follows']\n",
    "#tg1 = tg1[cols].reindex(cols, axis=1)\n",
    "tg1.head()"
   ]
  },
  {
   "cell_type": "markdown",
   "id": "1ad9c834",
   "metadata": {},
   "source": [
    "#### Target Group 2 subset"
   ]
  },
  {
   "cell_type": "code",
   "execution_count": 43,
   "id": "a5203be4",
   "metadata": {},
   "outputs": [
    {
     "data": {
      "text/html": [
       "<div>\n",
       "<style scoped>\n",
       "    .dataframe tbody tr th:only-of-type {\n",
       "        vertical-align: middle;\n",
       "    }\n",
       "\n",
       "    .dataframe tbody tr th {\n",
       "        vertical-align: top;\n",
       "    }\n",
       "\n",
       "    .dataframe thead th {\n",
       "        text-align: right;\n",
       "    }\n",
       "</style>\n",
       "<table border=\"1\" class=\"dataframe\">\n",
       "  <thead>\n",
       "    <tr style=\"text-align: right;\">\n",
       "      <th></th>\n",
       "      <th>Campaign</th>\n",
       "      <th>Ad_Format</th>\n",
       "      <th>Clicks</th>\n",
       "      <th>Date</th>\n",
       "      <th>Impressions</th>\n",
       "      <th>Reach</th>\n",
       "      <th>Audience</th>\n",
       "      <th>Platform</th>\n",
       "      <th>Creative_Family</th>\n",
       "      <th>Creative_Version</th>\n",
       "      <th>100%_Video_Views</th>\n",
       "      <th>Video_Starts</th>\n",
       "      <th>Follows</th>\n",
       "      <th>CTR</th>\n",
       "      <th>CTR_Score</th>\n",
       "      <th>Weighted_CTR_Score</th>\n",
       "      <th>Spend</th>\n",
       "      <th>Target_Group</th>\n",
       "    </tr>\n",
       "  </thead>\n",
       "  <tbody>\n",
       "    <tr>\n",
       "      <th>501</th>\n",
       "      <td>4 - StackAdapt - Display - Image</td>\n",
       "      <td>Display</td>\n",
       "      <td>0</td>\n",
       "      <td>2022-04-23</td>\n",
       "      <td>366</td>\n",
       "      <td>93</td>\n",
       "      <td>4</td>\n",
       "      <td>Domain Display</td>\n",
       "      <td>CloseFaster</td>\n",
       "      <td>FasterAll</td>\n",
       "      <td>0</td>\n",
       "      <td>0</td>\n",
       "      <td>0</td>\n",
       "      <td>0.000000</td>\n",
       "      <td>0.5</td>\n",
       "      <td>183.0</td>\n",
       "      <td>1.770169</td>\n",
       "      <td>2</td>\n",
       "    </tr>\n",
       "    <tr>\n",
       "      <th>502</th>\n",
       "      <td>4 - StackAdapt - Audio</td>\n",
       "      <td>Audio</td>\n",
       "      <td>0</td>\n",
       "      <td>2022-04-25</td>\n",
       "      <td>366</td>\n",
       "      <td>129</td>\n",
       "      <td>4</td>\n",
       "      <td>Domain Display</td>\n",
       "      <td>CloserTwins</td>\n",
       "      <td>Cutdown1A</td>\n",
       "      <td>0</td>\n",
       "      <td>0</td>\n",
       "      <td>0</td>\n",
       "      <td>0.000000</td>\n",
       "      <td>0.5</td>\n",
       "      <td>183.0</td>\n",
       "      <td>5.021292</td>\n",
       "      <td>2</td>\n",
       "    </tr>\n",
       "    <tr>\n",
       "      <th>506</th>\n",
       "      <td>4 - StackAdapt - Display - Interactive ads (al...</td>\n",
       "      <td>Display - Interactive</td>\n",
       "      <td>0</td>\n",
       "      <td>2022-07-15</td>\n",
       "      <td>366</td>\n",
       "      <td>53</td>\n",
       "      <td>4</td>\n",
       "      <td>Domain Display</td>\n",
       "      <td>CloserTwins</td>\n",
       "      <td>CloseMore</td>\n",
       "      <td>0</td>\n",
       "      <td>0</td>\n",
       "      <td>0</td>\n",
       "      <td>0.000000</td>\n",
       "      <td>0.5</td>\n",
       "      <td>183.0</td>\n",
       "      <td>3.203899</td>\n",
       "      <td>2</td>\n",
       "    </tr>\n",
       "    <tr>\n",
       "      <th>522</th>\n",
       "      <td>5 - StackAdapt - Remarketing - Banner</td>\n",
       "      <td>Display</td>\n",
       "      <td>5</td>\n",
       "      <td>2022-05-08</td>\n",
       "      <td>4576</td>\n",
       "      <td>232</td>\n",
       "      <td>5</td>\n",
       "      <td>Domain Display</td>\n",
       "      <td>UnfairAdvantage</td>\n",
       "      <td>1099</td>\n",
       "      <td>0</td>\n",
       "      <td>0</td>\n",
       "      <td>0</td>\n",
       "      <td>0.001093</td>\n",
       "      <td>0.5</td>\n",
       "      <td>2288.0</td>\n",
       "      <td>22.458325</td>\n",
       "      <td>2</td>\n",
       "    </tr>\n",
       "    <tr>\n",
       "      <th>531</th>\n",
       "      <td>5 - StackAdapt - Remarketing - Banner</td>\n",
       "      <td>Display</td>\n",
       "      <td>0</td>\n",
       "      <td>2022-04-29</td>\n",
       "      <td>33</td>\n",
       "      <td>1</td>\n",
       "      <td>5</td>\n",
       "      <td>Domain Display</td>\n",
       "      <td>UnfairAdvantage</td>\n",
       "      <td>1099</td>\n",
       "      <td>0</td>\n",
       "      <td>0</td>\n",
       "      <td>0</td>\n",
       "      <td>0.000000</td>\n",
       "      <td>0.5</td>\n",
       "      <td>16.5</td>\n",
       "      <td>0.014483</td>\n",
       "      <td>2</td>\n",
       "    </tr>\n",
       "  </tbody>\n",
       "</table>\n",
       "</div>"
      ],
      "text/plain": [
       "                                              Campaign              Ad_Format  \\\n",
       "501                   4 - StackAdapt - Display - Image                Display   \n",
       "502                             4 - StackAdapt - Audio                  Audio   \n",
       "506  4 - StackAdapt - Display - Interactive ads (al...  Display - Interactive   \n",
       "522              5 - StackAdapt - Remarketing - Banner                Display   \n",
       "531              5 - StackAdapt - Remarketing - Banner                Display   \n",
       "\n",
       "     Clicks       Date  Impressions  Reach Audience        Platform  \\\n",
       "501       0 2022-04-23          366     93        4  Domain Display   \n",
       "502       0 2022-04-25          366    129        4  Domain Display   \n",
       "506       0 2022-07-15          366     53        4  Domain Display   \n",
       "522       5 2022-05-08         4576    232        5  Domain Display   \n",
       "531       0 2022-04-29           33      1        5  Domain Display   \n",
       "\n",
       "     Creative_Family Creative_Version  100%_Video_Views  Video_Starts  \\\n",
       "501      CloseFaster        FasterAll                 0             0   \n",
       "502      CloserTwins        Cutdown1A                 0             0   \n",
       "506      CloserTwins        CloseMore                 0             0   \n",
       "522  UnfairAdvantage             1099                 0             0   \n",
       "531  UnfairAdvantage             1099                 0             0   \n",
       "\n",
       "     Follows       CTR  CTR_Score  Weighted_CTR_Score      Spend Target_Group  \n",
       "501        0  0.000000        0.5               183.0   1.770169            2  \n",
       "502        0  0.000000        0.5               183.0   5.021292            2  \n",
       "506        0  0.000000        0.5               183.0   3.203899            2  \n",
       "522        0  0.001093        0.5              2288.0  22.458325            2  \n",
       "531        0  0.000000        0.5                16.5   0.014483            2  "
      ]
     },
     "execution_count": 43,
     "metadata": {},
     "output_type": "execute_result"
    }
   ],
   "source": [
    "# Target_Group = 2\n",
    "tg2 = df.loc[df['Target_Group']=='2']\n",
    "tg2.head()"
   ]
  },
  {
   "cell_type": "markdown",
   "id": "dcf448de",
   "metadata": {},
   "source": [
    "#### Target Group 3\n"
   ]
  },
  {
   "cell_type": "code",
   "execution_count": 44,
   "id": "d561d1ab",
   "metadata": {},
   "outputs": [
    {
     "data": {
      "text/html": [
       "<div>\n",
       "<style scoped>\n",
       "    .dataframe tbody tr th:only-of-type {\n",
       "        vertical-align: middle;\n",
       "    }\n",
       "\n",
       "    .dataframe tbody tr th {\n",
       "        vertical-align: top;\n",
       "    }\n",
       "\n",
       "    .dataframe thead th {\n",
       "        text-align: right;\n",
       "    }\n",
       "</style>\n",
       "<table border=\"1\" class=\"dataframe\">\n",
       "  <thead>\n",
       "    <tr style=\"text-align: right;\">\n",
       "      <th></th>\n",
       "      <th>Campaign</th>\n",
       "      <th>Ad_Format</th>\n",
       "      <th>Clicks</th>\n",
       "      <th>Date</th>\n",
       "      <th>Impressions</th>\n",
       "      <th>Reach</th>\n",
       "      <th>Audience</th>\n",
       "      <th>Platform</th>\n",
       "      <th>Creative_Family</th>\n",
       "      <th>Creative_Version</th>\n",
       "      <th>100%_Video_Views</th>\n",
       "      <th>Video_Starts</th>\n",
       "      <th>Follows</th>\n",
       "      <th>CTR</th>\n",
       "      <th>CTR_Score</th>\n",
       "      <th>Weighted_CTR_Score</th>\n",
       "      <th>Spend</th>\n",
       "      <th>Target_Group</th>\n",
       "    </tr>\n",
       "  </thead>\n",
       "  <tbody>\n",
       "    <tr>\n",
       "      <th>8566</th>\n",
       "      <td>Housing Wire</td>\n",
       "      <td>Display</td>\n",
       "      <td>1</td>\n",
       "      <td>2022-09-04</td>\n",
       "      <td>197</td>\n",
       "      <td>0</td>\n",
       "      <td>General Targetting</td>\n",
       "      <td>Trade Media</td>\n",
       "      <td>Other</td>\n",
       "      <td>No Answer</td>\n",
       "      <td>0</td>\n",
       "      <td>0</td>\n",
       "      <td>0</td>\n",
       "      <td>0.005076</td>\n",
       "      <td>0.0</td>\n",
       "      <td>0.0</td>\n",
       "      <td>0.0</td>\n",
       "      <td>3</td>\n",
       "    </tr>\n",
       "    <tr>\n",
       "      <th>8732</th>\n",
       "      <td>Housing Wire</td>\n",
       "      <td>Display</td>\n",
       "      <td>1</td>\n",
       "      <td>2022-09-04</td>\n",
       "      <td>1897</td>\n",
       "      <td>0</td>\n",
       "      <td>General Targetting</td>\n",
       "      <td>Trade Media</td>\n",
       "      <td>Other</td>\n",
       "      <td>No Answer</td>\n",
       "      <td>0</td>\n",
       "      <td>0</td>\n",
       "      <td>0</td>\n",
       "      <td>0.000527</td>\n",
       "      <td>0.0</td>\n",
       "      <td>0.0</td>\n",
       "      <td>0.0</td>\n",
       "      <td>3</td>\n",
       "    </tr>\n",
       "    <tr>\n",
       "      <th>9096</th>\n",
       "      <td>Housing Wire</td>\n",
       "      <td>Display</td>\n",
       "      <td>1</td>\n",
       "      <td>2022-09-04</td>\n",
       "      <td>137</td>\n",
       "      <td>0</td>\n",
       "      <td>General Targetting</td>\n",
       "      <td>Trade Media</td>\n",
       "      <td>Other</td>\n",
       "      <td>No Answer</td>\n",
       "      <td>0</td>\n",
       "      <td>0</td>\n",
       "      <td>0</td>\n",
       "      <td>0.007299</td>\n",
       "      <td>0.0</td>\n",
       "      <td>0.0</td>\n",
       "      <td>0.0</td>\n",
       "      <td>3</td>\n",
       "    </tr>\n",
       "    <tr>\n",
       "      <th>9132</th>\n",
       "      <td>Housing Wire</td>\n",
       "      <td>Display</td>\n",
       "      <td>0</td>\n",
       "      <td>2022-09-04</td>\n",
       "      <td>19</td>\n",
       "      <td>0</td>\n",
       "      <td>General Targetting</td>\n",
       "      <td>Trade Media</td>\n",
       "      <td>Other</td>\n",
       "      <td>1099</td>\n",
       "      <td>0</td>\n",
       "      <td>0</td>\n",
       "      <td>0</td>\n",
       "      <td>0.000000</td>\n",
       "      <td>0.0</td>\n",
       "      <td>0.0</td>\n",
       "      <td>0.0</td>\n",
       "      <td>3</td>\n",
       "    </tr>\n",
       "    <tr>\n",
       "      <th>9268</th>\n",
       "      <td>Housing Wire</td>\n",
       "      <td>Display</td>\n",
       "      <td>0</td>\n",
       "      <td>2022-09-04</td>\n",
       "      <td>145</td>\n",
       "      <td>0</td>\n",
       "      <td>General Targetting</td>\n",
       "      <td>Trade Media</td>\n",
       "      <td>Other</td>\n",
       "      <td>NoDTI</td>\n",
       "      <td>0</td>\n",
       "      <td>0</td>\n",
       "      <td>0</td>\n",
       "      <td>0.000000</td>\n",
       "      <td>0.0</td>\n",
       "      <td>0.0</td>\n",
       "      <td>0.0</td>\n",
       "      <td>3</td>\n",
       "    </tr>\n",
       "  </tbody>\n",
       "</table>\n",
       "</div>"
      ],
      "text/plain": [
       "          Campaign Ad_Format  Clicks       Date  Impressions  Reach  \\\n",
       "8566  Housing Wire   Display       1 2022-09-04          197      0   \n",
       "8732  Housing Wire   Display       1 2022-09-04         1897      0   \n",
       "9096  Housing Wire   Display       1 2022-09-04          137      0   \n",
       "9132  Housing Wire   Display       0 2022-09-04           19      0   \n",
       "9268  Housing Wire   Display       0 2022-09-04          145      0   \n",
       "\n",
       "                Audience     Platform Creative_Family Creative_Version  \\\n",
       "8566  General Targetting  Trade Media           Other        No Answer   \n",
       "8732  General Targetting  Trade Media           Other        No Answer   \n",
       "9096  General Targetting  Trade Media           Other        No Answer   \n",
       "9132  General Targetting  Trade Media           Other             1099   \n",
       "9268  General Targetting  Trade Media           Other            NoDTI   \n",
       "\n",
       "      100%_Video_Views  Video_Starts  Follows       CTR  CTR_Score  \\\n",
       "8566                 0             0        0  0.005076        0.0   \n",
       "8732                 0             0        0  0.000527        0.0   \n",
       "9096                 0             0        0  0.007299        0.0   \n",
       "9132                 0             0        0  0.000000        0.0   \n",
       "9268                 0             0        0  0.000000        0.0   \n",
       "\n",
       "      Weighted_CTR_Score  Spend Target_Group  \n",
       "8566                 0.0    0.0            3  \n",
       "8732                 0.0    0.0            3  \n",
       "9096                 0.0    0.0            3  \n",
       "9132                 0.0    0.0            3  \n",
       "9268                 0.0    0.0            3  "
      ]
     },
     "execution_count": 44,
     "metadata": {},
     "output_type": "execute_result"
    }
   ],
   "source": [
    "# Target_Group = 3\n",
    "tg3 = df.loc[df['Target_Group']=='3']\n",
    "tg3.head()"
   ]
  },
  {
   "cell_type": "code",
   "execution_count": 45,
   "id": "2cf0a2ec",
   "metadata": {},
   "outputs": [
    {
     "data": {
      "image/png": "[encoded data removed]",
      "text/plain": [
       "<Figure size 864x576 with 1 Axes>"
      ]
     },
     "metadata": {},
     "output_type": "display_data"
    }
   ],
   "source": [
    "# Group Target_Group=1 on Platform and Creative_Family to determine total 'Reach'\n",
    "fam_plat1 = tg1.loc[tg1['Creative_Family']!='Other'].groupby(['Platform','Creative_Family'])['Reach'].mean().reset_index()\n",
    "sns.barplot(y='Creative_Family',x = 'Reach', hue = 'Platform', data = fam_plat1)\n",
    "plt.xlabel('Reach',fontsize = 16)\n",
    "plt.ylabel('Creative_Family', fontsize=16)\n",
    "plt.title('Target-Group 1:Creative_Family Vs Total Reach - Platforms', fontsize=20)\n",
    "plt.tick_params(axis='both', which='major', labelsize=12)"
   ]
  },
  {
   "cell_type": "code",
   "execution_count": 46,
   "id": "209614e7",
   "metadata": {},
   "outputs": [
    {
     "data": {
      "image/png": "[encoded data removed]",
      "text/plain": [
       "<Figure size 864x576 with 1 Axes>"
      ]
     },
     "metadata": {},
     "output_type": "display_data"
    }
   ],
   "source": [
    "# Group Target_Group=2 on Platform and Creative_Family to determine total 'Reach'\n",
    "fam_plat2 = tg2.loc[tg2['Creative_Family']!='Other'].groupby(['Platform','Creative_Family'])['Reach'].sum().reset_index()\n",
    "sns.barplot(y='Creative_Family',x = 'Reach', hue = 'Platform', data = fam_plat2)\n",
    "plt.xlabel('Reach',fontsize = 16)\n",
    "plt.ylabel('Creative_Family', fontsize=16)\n",
    "plt.title('Target-Group 2:Creative_Family Vs Total Reach - Platforms', fontsize=20)\n",
    "plt.tick_params(axis='both', which='major', labelsize=12)"
   ]
  },
  {
   "cell_type": "code",
   "execution_count": 47,
   "id": "9dcfea9e",
   "metadata": {},
   "outputs": [
    {
     "data": {
      "image/png": "[encoded data removed]",
      "text/plain": [
       "<Figure size 864x576 with 1 Axes>"
      ]
     },
     "metadata": {},
     "output_type": "display_data"
    }
   ],
   "source": [
    "# Group Target_Group=3 on Platform and Creative_Family to determine total 'Reach'\n",
    "fam_plat3 = tg3.groupby(['Platform','Creative_Family'])['Reach'].sum().reset_index()\n",
    "sns.barplot(y='Creative_Family',x = 'Reach', hue = 'Platform', data = fam_plat3)\n",
    "plt.xlabel('Reach',fontsize = 16)\n",
    "plt.ylabel('Creative_Family', fontsize=16)\n",
    "plt.title('Target-Group 3:Creative_Family Vs Total Reach - Platforms', fontsize=20)\n",
    "plt.tick_params(axis='both', which='major', labelsize=12)"
   ]
  },
  {
   "cell_type": "markdown",
   "id": "fd8e068f",
   "metadata": {},
   "source": [
    " - CloserTwins on OTT platform has the best reach for Target Group 3"
   ]
  },
  {
   "cell_type": "markdown",
   "id": "4912fb98",
   "metadata": {},
   "source": [
    "#### Create user-defined function for target groups based on  groupby  of required campaign element ['Platform'] or ['Creative_Family']"
   ]
  },
  {
   "cell_type": "code",
   "execution_count": 48,
   "id": "1b757f0c",
   "metadata": {},
   "outputs": [],
   "source": [
    "# User defined function : To create subsets for target groups based on column grouping and calculate CPC\n",
    "def target_group(tg, column):\n",
    "    tg_group = tg.groupby(column).agg({'CTR':'mean','Spend':'sum','Clicks':'sum',\\\n",
    "                                        'Impressions':'sum','Reach':'sum','Weighted_CTR_Score':'sum'\n",
    "                                       }).reset_index()\n",
    "    # Add new column 'CPC' to determine Cost per Click for platforms\n",
    "    tg_group['CPC'] = tg_group['Spend']/tg_group['Clicks']\n",
    "    return tg_group\n",
    "    "
   ]
  },
  {
   "cell_type": "markdown",
   "id": "0a7fa108",
   "metadata": {},
   "source": [
    "#### Groupby 'Platform'"
   ]
  },
  {
   "cell_type": "code",
   "execution_count": 49,
   "id": "938ea4d8",
   "metadata": {},
   "outputs": [
    {
     "data": {
      "text/html": [
       "<div>\n",
       "<style scoped>\n",
       "    .dataframe tbody tr th:only-of-type {\n",
       "        vertical-align: middle;\n",
       "    }\n",
       "\n",
       "    .dataframe tbody tr th {\n",
       "        vertical-align: top;\n",
       "    }\n",
       "\n",
       "    .dataframe thead th {\n",
       "        text-align: right;\n",
       "    }\n",
       "</style>\n",
       "<table border=\"1\" class=\"dataframe\">\n",
       "  <thead>\n",
       "    <tr style=\"text-align: right;\">\n",
       "      <th></th>\n",
       "      <th>Platform</th>\n",
       "      <th>CTR</th>\n",
       "      <th>Spend</th>\n",
       "      <th>Clicks</th>\n",
       "      <th>Impressions</th>\n",
       "      <th>Reach</th>\n",
       "      <th>Weighted_CTR_Score</th>\n",
       "      <th>CPC</th>\n",
       "    </tr>\n",
       "  </thead>\n",
       "  <tbody>\n",
       "    <tr>\n",
       "      <th>0</th>\n",
       "      <td>Domain Display</td>\n",
       "      <td>0.000462</td>\n",
       "      <td>23881.933135</td>\n",
       "      <td>1303</td>\n",
       "      <td>2739642</td>\n",
       "      <td>183363</td>\n",
       "      <td>1562301.0</td>\n",
       "      <td>18.328421</td>\n",
       "    </tr>\n",
       "    <tr>\n",
       "      <th>1</th>\n",
       "      <td>Facebook</td>\n",
       "      <td>0.006786</td>\n",
       "      <td>5023.482582</td>\n",
       "      <td>1818</td>\n",
       "      <td>262991</td>\n",
       "      <td>159565</td>\n",
       "      <td>0.0</td>\n",
       "      <td>2.763192</td>\n",
       "    </tr>\n",
       "    <tr>\n",
       "      <th>2</th>\n",
       "      <td>Instagram</td>\n",
       "      <td>0.004894</td>\n",
       "      <td>1023.677626</td>\n",
       "      <td>177</td>\n",
       "      <td>56001</td>\n",
       "      <td>29759</td>\n",
       "      <td>0.0</td>\n",
       "      <td>5.783489</td>\n",
       "    </tr>\n",
       "    <tr>\n",
       "      <th>3</th>\n",
       "      <td>LinkedIn</td>\n",
       "      <td>0.007642</td>\n",
       "      <td>39454.821303</td>\n",
       "      <td>935</td>\n",
       "      <td>516285</td>\n",
       "      <td>137836</td>\n",
       "      <td>296219.0</td>\n",
       "      <td>42.197670</td>\n",
       "    </tr>\n",
       "    <tr>\n",
       "      <th>4</th>\n",
       "      <td>User ID Display</td>\n",
       "      <td>0.006496</td>\n",
       "      <td>25847.311728</td>\n",
       "      <td>9286</td>\n",
       "      <td>5033150</td>\n",
       "      <td>2646138</td>\n",
       "      <td>3594606.0</td>\n",
       "      <td>2.783471</td>\n",
       "    </tr>\n",
       "  </tbody>\n",
       "</table>\n",
       "</div>"
      ],
      "text/plain": [
       "          Platform       CTR         Spend  Clicks  Impressions    Reach  \\\n",
       "0   Domain Display  0.000462  23881.933135    1303      2739642   183363   \n",
       "1         Facebook  0.006786   5023.482582    1818       262991   159565   \n",
       "2        Instagram  0.004894   1023.677626     177        56001    29759   \n",
       "3         LinkedIn  0.007642  39454.821303     935       516285   137836   \n",
       "4  User ID Display  0.006496  25847.311728    9286      5033150  2646138   \n",
       "\n",
       "   Weighted_CTR_Score        CPC  \n",
       "0           1562301.0  18.328421  \n",
       "1                 0.0   2.763192  \n",
       "2                 0.0   5.783489  \n",
       "3            296219.0  42.197670  \n",
       "4           3594606.0   2.783471  "
      ]
     },
     "execution_count": 49,
     "metadata": {},
     "output_type": "execute_result"
    }
   ],
   "source": [
    "# Target group 1 platform grouping\n",
    "tg1_plat = target_group(tg1, 'Platform')\n",
    "tg1_plat"
   ]
  },
  {
   "cell_type": "code",
   "execution_count": 50,
   "id": "3ffba8fc",
   "metadata": {},
   "outputs": [
    {
     "data": {
      "text/html": [
       "<div>\n",
       "<style scoped>\n",
       "    .dataframe tbody tr th:only-of-type {\n",
       "        vertical-align: middle;\n",
       "    }\n",
       "\n",
       "    .dataframe tbody tr th {\n",
       "        vertical-align: top;\n",
       "    }\n",
       "\n",
       "    .dataframe thead th {\n",
       "        text-align: right;\n",
       "    }\n",
       "</style>\n",
       "<table border=\"1\" class=\"dataframe\">\n",
       "  <thead>\n",
       "    <tr style=\"text-align: right;\">\n",
       "      <th></th>\n",
       "      <th>Platform</th>\n",
       "      <th>CTR</th>\n",
       "      <th>Spend</th>\n",
       "      <th>Clicks</th>\n",
       "      <th>Impressions</th>\n",
       "      <th>Reach</th>\n",
       "      <th>Weighted_CTR_Score</th>\n",
       "      <th>CPC</th>\n",
       "    </tr>\n",
       "  </thead>\n",
       "  <tbody>\n",
       "    <tr>\n",
       "      <th>0</th>\n",
       "      <td>Domain Display</td>\n",
       "      <td>0.001320</td>\n",
       "      <td>133867.053908</td>\n",
       "      <td>18115</td>\n",
       "      <td>19564371</td>\n",
       "      <td>1715087</td>\n",
       "      <td>11694403.5</td>\n",
       "      <td>7.389846</td>\n",
       "    </tr>\n",
       "    <tr>\n",
       "      <th>1</th>\n",
       "      <td>LinkedIn</td>\n",
       "      <td>0.007533</td>\n",
       "      <td>160038.731038</td>\n",
       "      <td>10456</td>\n",
       "      <td>3165406</td>\n",
       "      <td>883345</td>\n",
       "      <td>2446067.0</td>\n",
       "      <td>15.305923</td>\n",
       "    </tr>\n",
       "    <tr>\n",
       "      <th>2</th>\n",
       "      <td>User ID Display</td>\n",
       "      <td>0.004334</td>\n",
       "      <td>29331.148822</td>\n",
       "      <td>10294</td>\n",
       "      <td>5998098</td>\n",
       "      <td>3204355</td>\n",
       "      <td>4205924.5</td>\n",
       "      <td>2.849344</td>\n",
       "    </tr>\n",
       "  </tbody>\n",
       "</table>\n",
       "</div>"
      ],
      "text/plain": [
       "          Platform       CTR          Spend  Clicks  Impressions    Reach  \\\n",
       "0   Domain Display  0.001320  133867.053908   18115     19564371  1715087   \n",
       "1         LinkedIn  0.007533  160038.731038   10456      3165406   883345   \n",
       "2  User ID Display  0.004334   29331.148822   10294      5998098  3204355   \n",
       "\n",
       "   Weighted_CTR_Score        CPC  \n",
       "0          11694403.5   7.389846  \n",
       "1           2446067.0  15.305923  \n",
       "2           4205924.5   2.849344  "
      ]
     },
     "execution_count": 50,
     "metadata": {},
     "output_type": "execute_result"
    }
   ],
   "source": [
    "# Target group 2 platform grouping\n",
    "tg2_plat = target_group(tg2, 'Platform')\n",
    "tg2_plat"
   ]
  },
  {
   "cell_type": "code",
   "execution_count": 51,
   "id": "d4cedcaa",
   "metadata": {},
   "outputs": [
    {
     "data": {
      "text/html": [
       "<div>\n",
       "<style scoped>\n",
       "    .dataframe tbody tr th:only-of-type {\n",
       "        vertical-align: middle;\n",
       "    }\n",
       "\n",
       "    .dataframe tbody tr th {\n",
       "        vertical-align: top;\n",
       "    }\n",
       "\n",
       "    .dataframe thead th {\n",
       "        text-align: right;\n",
       "    }\n",
       "</style>\n",
       "<table border=\"1\" class=\"dataframe\">\n",
       "  <thead>\n",
       "    <tr style=\"text-align: right;\">\n",
       "      <th></th>\n",
       "      <th>Platform</th>\n",
       "      <th>CTR</th>\n",
       "      <th>Spend</th>\n",
       "      <th>Clicks</th>\n",
       "      <th>Impressions</th>\n",
       "      <th>Reach</th>\n",
       "      <th>Weighted_CTR_Score</th>\n",
       "      <th>CPC</th>\n",
       "    </tr>\n",
       "  </thead>\n",
       "  <tbody>\n",
       "    <tr>\n",
       "      <th>0</th>\n",
       "      <td>Domain Display</td>\n",
       "      <td>0.000468</td>\n",
       "      <td>1275.127592</td>\n",
       "      <td>263</td>\n",
       "      <td>262110</td>\n",
       "      <td>42156</td>\n",
       "      <td>149696.5</td>\n",
       "      <td>4.848394</td>\n",
       "    </tr>\n",
       "    <tr>\n",
       "      <th>1</th>\n",
       "      <td>Google SEM</td>\n",
       "      <td>0.121078</td>\n",
       "      <td>8674.350000</td>\n",
       "      <td>12429</td>\n",
       "      <td>66693</td>\n",
       "      <td>0</td>\n",
       "      <td>0.0</td>\n",
       "      <td>0.697912</td>\n",
       "    </tr>\n",
       "    <tr>\n",
       "      <th>2</th>\n",
       "      <td>LinkedIn</td>\n",
       "      <td>0.001235</td>\n",
       "      <td>12390.641315</td>\n",
       "      <td>1024</td>\n",
       "      <td>1347888</td>\n",
       "      <td>347312</td>\n",
       "      <td>702625.0</td>\n",
       "      <td>12.100236</td>\n",
       "    </tr>\n",
       "    <tr>\n",
       "      <th>3</th>\n",
       "      <td>OTT</td>\n",
       "      <td>0.000000</td>\n",
       "      <td>249833.910000</td>\n",
       "      <td>0</td>\n",
       "      <td>7348177</td>\n",
       "      <td>5349629</td>\n",
       "      <td>0.0</td>\n",
       "      <td>inf</td>\n",
       "    </tr>\n",
       "    <tr>\n",
       "      <th>4</th>\n",
       "      <td>Trade Media</td>\n",
       "      <td>0.002449</td>\n",
       "      <td>10800.000008</td>\n",
       "      <td>445</td>\n",
       "      <td>566118</td>\n",
       "      <td>0</td>\n",
       "      <td>0.0</td>\n",
       "      <td>24.269663</td>\n",
       "    </tr>\n",
       "  </tbody>\n",
       "</table>\n",
       "</div>"
      ],
      "text/plain": [
       "         Platform       CTR          Spend  Clicks  Impressions    Reach  \\\n",
       "0  Domain Display  0.000468    1275.127592     263       262110    42156   \n",
       "1      Google SEM  0.121078    8674.350000   12429        66693        0   \n",
       "2        LinkedIn  0.001235   12390.641315    1024      1347888   347312   \n",
       "3             OTT  0.000000  249833.910000       0      7348177  5349629   \n",
       "4     Trade Media  0.002449   10800.000008     445       566118        0   \n",
       "\n",
       "   Weighted_CTR_Score        CPC  \n",
       "0            149696.5   4.848394  \n",
       "1                 0.0   0.697912  \n",
       "2            702625.0  12.100236  \n",
       "3                 0.0        inf  \n",
       "4                 0.0  24.269663  "
      ]
     },
     "execution_count": 51,
     "metadata": {},
     "output_type": "execute_result"
    }
   ],
   "source": [
    "# Target group 3 platform grouping\n",
    "tg3_plat = target_group(tg3, 'Platform')\n",
    "tg3_plat"
   ]
  },
  {
   "cell_type": "markdown",
   "id": "149973ec",
   "metadata": {},
   "source": [
    " "
   ]
  },
  {
   "cell_type": "markdown",
   "id": "792218b1",
   "metadata": {},
   "source": [
    "#### Groupby 'Creative_Family' campaign"
   ]
  },
  {
   "cell_type": "code",
   "execution_count": 52,
   "id": "ea1ddbc3",
   "metadata": {},
   "outputs": [
    {
     "data": {
      "text/html": [
       "<div>\n",
       "<style scoped>\n",
       "    .dataframe tbody tr th:only-of-type {\n",
       "        vertical-align: middle;\n",
       "    }\n",
       "\n",
       "    .dataframe tbody tr th {\n",
       "        vertical-align: top;\n",
       "    }\n",
       "\n",
       "    .dataframe thead th {\n",
       "        text-align: right;\n",
       "    }\n",
       "</style>\n",
       "<table border=\"1\" class=\"dataframe\">\n",
       "  <thead>\n",
       "    <tr style=\"text-align: right;\">\n",
       "      <th></th>\n",
       "      <th>Creative_Family</th>\n",
       "      <th>CTR</th>\n",
       "      <th>Spend</th>\n",
       "      <th>Clicks</th>\n",
       "      <th>Impressions</th>\n",
       "      <th>Reach</th>\n",
       "      <th>Weighted_CTR_Score</th>\n",
       "      <th>CPC</th>\n",
       "    </tr>\n",
       "  </thead>\n",
       "  <tbody>\n",
       "    <tr>\n",
       "      <th>0</th>\n",
       "      <td>CloseFaster</td>\n",
       "      <td>0.003444</td>\n",
       "      <td>14083.132090</td>\n",
       "      <td>3282</td>\n",
       "      <td>1805930</td>\n",
       "      <td>885554</td>\n",
       "      <td>1244751.0</td>\n",
       "      <td>4.291021</td>\n",
       "    </tr>\n",
       "    <tr>\n",
       "      <th>1</th>\n",
       "      <td>CloserTwins</td>\n",
       "      <td>0.002694</td>\n",
       "      <td>41115.631535</td>\n",
       "      <td>3995</td>\n",
       "      <td>2708066</td>\n",
       "      <td>761241</td>\n",
       "      <td>1573166.0</td>\n",
       "      <td>10.291773</td>\n",
       "    </tr>\n",
       "    <tr>\n",
       "      <th>2</th>\n",
       "      <td>Other</td>\n",
       "      <td>0.021038</td>\n",
       "      <td>665.495891</td>\n",
       "      <td>25</td>\n",
       "      <td>1031</td>\n",
       "      <td>0</td>\n",
       "      <td>1129.5</td>\n",
       "      <td>26.619836</td>\n",
       "    </tr>\n",
       "    <tr>\n",
       "      <th>3</th>\n",
       "      <td>UnfairAdvantage</td>\n",
       "      <td>0.002435</td>\n",
       "      <td>39366.966858</td>\n",
       "      <td>6217</td>\n",
       "      <td>4093042</td>\n",
       "      <td>1509866</td>\n",
       "      <td>2634079.5</td>\n",
       "      <td>6.332148</td>\n",
       "    </tr>\n",
       "  </tbody>\n",
       "</table>\n",
       "</div>"
      ],
      "text/plain": [
       "   Creative_Family       CTR         Spend  Clicks  Impressions    Reach  \\\n",
       "0      CloseFaster  0.003444  14083.132090    3282      1805930   885554   \n",
       "1      CloserTwins  0.002694  41115.631535    3995      2708066   761241   \n",
       "2            Other  0.021038    665.495891      25         1031        0   \n",
       "3  UnfairAdvantage  0.002435  39366.966858    6217      4093042  1509866   \n",
       "\n",
       "   Weighted_CTR_Score        CPC  \n",
       "0           1244751.0   4.291021  \n",
       "1           1573166.0  10.291773  \n",
       "2              1129.5  26.619836  \n",
       "3           2634079.5   6.332148  "
      ]
     },
     "execution_count": 52,
     "metadata": {},
     "output_type": "execute_result"
    }
   ],
   "source": [
    "# Target group 1 campaign grouping\n",
    "tg1_camp = target_group(tg1,'Creative_Family')\n",
    "tg1_camp"
   ]
  },
  {
   "cell_type": "code",
   "execution_count": 53,
   "id": "ca6fde4e",
   "metadata": {},
   "outputs": [
    {
     "data": {
      "text/html": [
       "<div>\n",
       "<style scoped>\n",
       "    .dataframe tbody tr th:only-of-type {\n",
       "        vertical-align: middle;\n",
       "    }\n",
       "\n",
       "    .dataframe tbody tr th {\n",
       "        vertical-align: top;\n",
       "    }\n",
       "\n",
       "    .dataframe thead th {\n",
       "        text-align: right;\n",
       "    }\n",
       "</style>\n",
       "<table border=\"1\" class=\"dataframe\">\n",
       "  <thead>\n",
       "    <tr style=\"text-align: right;\">\n",
       "      <th></th>\n",
       "      <th>Creative_Family</th>\n",
       "      <th>CTR</th>\n",
       "      <th>Spend</th>\n",
       "      <th>Clicks</th>\n",
       "      <th>Impressions</th>\n",
       "      <th>Reach</th>\n",
       "      <th>Weighted_CTR_Score</th>\n",
       "      <th>CPC</th>\n",
       "    </tr>\n",
       "  </thead>\n",
       "  <tbody>\n",
       "    <tr>\n",
       "      <th>0</th>\n",
       "      <td>CloseFaster</td>\n",
       "      <td>0.003312</td>\n",
       "      <td>43361.166342</td>\n",
       "      <td>7499</td>\n",
       "      <td>4269441</td>\n",
       "      <td>1403328</td>\n",
       "      <td>3128035.5</td>\n",
       "      <td>5.782260</td>\n",
       "    </tr>\n",
       "    <tr>\n",
       "      <th>1</th>\n",
       "      <td>CloserTwins</td>\n",
       "      <td>0.002623</td>\n",
       "      <td>101870.513593</td>\n",
       "      <td>10072</td>\n",
       "      <td>9812880</td>\n",
       "      <td>1793577</td>\n",
       "      <td>5819007.5</td>\n",
       "      <td>10.114229</td>\n",
       "    </tr>\n",
       "    <tr>\n",
       "      <th>2</th>\n",
       "      <td>Other</td>\n",
       "      <td>0.010372</td>\n",
       "      <td>229.080000</td>\n",
       "      <td>573</td>\n",
       "      <td>55247</td>\n",
       "      <td>0</td>\n",
       "      <td>82870.5</td>\n",
       "      <td>0.399791</td>\n",
       "    </tr>\n",
       "    <tr>\n",
       "      <th>3</th>\n",
       "      <td>UnfairAdvantage</td>\n",
       "      <td>0.002031</td>\n",
       "      <td>177776.173833</td>\n",
       "      <td>20721</td>\n",
       "      <td>14590307</td>\n",
       "      <td>2605882</td>\n",
       "      <td>9316481.5</td>\n",
       "      <td>8.579517</td>\n",
       "    </tr>\n",
       "  </tbody>\n",
       "</table>\n",
       "</div>"
      ],
      "text/plain": [
       "   Creative_Family       CTR          Spend  Clicks  Impressions    Reach  \\\n",
       "0      CloseFaster  0.003312   43361.166342    7499      4269441  1403328   \n",
       "1      CloserTwins  0.002623  101870.513593   10072      9812880  1793577   \n",
       "2            Other  0.010372     229.080000     573        55247        0   \n",
       "3  UnfairAdvantage  0.002031  177776.173833   20721     14590307  2605882   \n",
       "\n",
       "   Weighted_CTR_Score        CPC  \n",
       "0           3128035.5   5.782260  \n",
       "1           5819007.5  10.114229  \n",
       "2             82870.5   0.399791  \n",
       "3           9316481.5   8.579517  "
      ]
     },
     "execution_count": 53,
     "metadata": {},
     "output_type": "execute_result"
    }
   ],
   "source": [
    "# Target group 2 campaign grouping\n",
    "tg2_camp = target_group(tg2,'Creative_Family')\n",
    "tg2_camp"
   ]
  },
  {
   "cell_type": "code",
   "execution_count": 54,
   "id": "d3f7b9d9",
   "metadata": {},
   "outputs": [
    {
     "data": {
      "text/html": [
       "<div>\n",
       "<style scoped>\n",
       "    .dataframe tbody tr th:only-of-type {\n",
       "        vertical-align: middle;\n",
       "    }\n",
       "\n",
       "    .dataframe tbody tr th {\n",
       "        vertical-align: top;\n",
       "    }\n",
       "\n",
       "    .dataframe thead th {\n",
       "        text-align: right;\n",
       "    }\n",
       "</style>\n",
       "<table border=\"1\" class=\"dataframe\">\n",
       "  <thead>\n",
       "    <tr style=\"text-align: right;\">\n",
       "      <th></th>\n",
       "      <th>Creative_Family</th>\n",
       "      <th>CTR</th>\n",
       "      <th>Spend</th>\n",
       "      <th>Clicks</th>\n",
       "      <th>Impressions</th>\n",
       "      <th>Reach</th>\n",
       "      <th>Weighted_CTR_Score</th>\n",
       "      <th>CPC</th>\n",
       "    </tr>\n",
       "  </thead>\n",
       "  <tbody>\n",
       "    <tr>\n",
       "      <th>0</th>\n",
       "      <td>CloserTwins</td>\n",
       "      <td>0.000081</td>\n",
       "      <td>249833.910000</td>\n",
       "      <td>72</td>\n",
       "      <td>7397016</td>\n",
       "      <td>5349629</td>\n",
       "      <td>0.0</td>\n",
       "      <td>3469.915417</td>\n",
       "    </tr>\n",
       "    <tr>\n",
       "      <th>1</th>\n",
       "      <td>CompetitiveOpportunity</td>\n",
       "      <td>0.001939</td>\n",
       "      <td>3261.037592</td>\n",
       "      <td>373</td>\n",
       "      <td>276361</td>\n",
       "      <td>56018</td>\n",
       "      <td>166726.5</td>\n",
       "      <td>8.742728</td>\n",
       "    </tr>\n",
       "    <tr>\n",
       "      <th>2</th>\n",
       "      <td>Other</td>\n",
       "      <td>0.001295</td>\n",
       "      <td>21204.731323</td>\n",
       "      <td>1287</td>\n",
       "      <td>1850916</td>\n",
       "      <td>333450</td>\n",
       "      <td>685595.0</td>\n",
       "      <td>16.476093</td>\n",
       "    </tr>\n",
       "    <tr>\n",
       "      <th>3</th>\n",
       "      <td>SEM Ads</td>\n",
       "      <td>0.121078</td>\n",
       "      <td>8674.350000</td>\n",
       "      <td>12429</td>\n",
       "      <td>66693</td>\n",
       "      <td>0</td>\n",
       "      <td>0.0</td>\n",
       "      <td>0.697912</td>\n",
       "    </tr>\n",
       "  </tbody>\n",
       "</table>\n",
       "</div>"
      ],
      "text/plain": [
       "          Creative_Family       CTR          Spend  Clicks  Impressions  \\\n",
       "0             CloserTwins  0.000081  249833.910000      72      7397016   \n",
       "1  CompetitiveOpportunity  0.001939    3261.037592     373       276361   \n",
       "2                   Other  0.001295   21204.731323    1287      1850916   \n",
       "3                 SEM Ads  0.121078    8674.350000   12429        66693   \n",
       "\n",
       "     Reach  Weighted_CTR_Score          CPC  \n",
       "0  5349629                 0.0  3469.915417  \n",
       "1    56018            166726.5     8.742728  \n",
       "2   333450            685595.0    16.476093  \n",
       "3        0                 0.0     0.697912  "
      ]
     },
     "execution_count": 54,
     "metadata": {},
     "output_type": "execute_result"
    }
   ],
   "source": [
    "# Target group 3 campaign grouping\n",
    "tg3_camp = target_group(tg3,'Creative_Family')\n",
    "tg3_camp"
   ]
  },
  {
   "cell_type": "markdown",
   "id": "0788f1ea",
   "metadata": {},
   "source": [
    " "
   ]
  },
  {
   "cell_type": "markdown",
   "id": "36d526b8",
   "metadata": {},
   "source": [
    " "
   ]
  },
  {
   "cell_type": "markdown",
   "id": "89ca415a",
   "metadata": {},
   "source": [
    "### Target Group 1"
   ]
  },
  {
   "cell_type": "code",
   "execution_count": 55,
   "id": "ec757efc",
   "metadata": {},
   "outputs": [
    {
     "data": {
      "image/png": "[encoded data removed]",
      "text/plain": [
       "<Figure size 864x576 with 1 Axes>"
      ]
     },
     "metadata": {},
     "output_type": "display_data"
    }
   ],
   "source": [
    "# TG1 : Plot Platform and Cost Per Click \n",
    "sns.barplot(x='Platform',y = 'CPC', data = tg1_plat, palette = 'rocket')\n",
    "plt.xlabel('Platform',fontsize = 16)\n",
    "plt.ylabel('Cost per Click', fontsize=16)\n",
    "plt.title('TG1 : Platforms - CPC', fontsize=20)\n",
    "plt.tick_params(axis='both', which='major', labelsize=12)"
   ]
  },
  {
   "cell_type": "code",
   "execution_count": 56,
   "id": "5f14de18",
   "metadata": {},
   "outputs": [
    {
     "data": {
      "image/png": "[encoded data removed]",
      "text/plain": [
       "<Figure size 864x576 with 1 Axes>"
      ]
     },
     "metadata": {},
     "output_type": "display_data"
    }
   ],
   "source": [
    "# TG1 : Plot Platform and CTR\n",
    "sns.barplot(x='Platform',y = 'CTR', data = tg1_plat, palette = 'rocket')\n",
    "plt.xlabel('Platform',fontsize = 16)\n",
    "plt.ylabel('CTR', fontsize=16)\n",
    "plt.title('TG1 : Platforms - CTR', fontsize=20)\n",
    "plt.tick_params(axis='both', which='major', labelsize=12)"
   ]
  },
  {
   "cell_type": "code",
   "execution_count": 57,
   "id": "634b2e2d",
   "metadata": {},
   "outputs": [
    {
     "data": {
      "image/png": "[encoded data removed]",
      "text/plain": [
       "<Figure size 864x576 with 1 Axes>"
      ]
     },
     "metadata": {},
     "output_type": "display_data"
    }
   ],
   "source": [
    "# TG1 : Plot Campaign and Cost Per Click\n",
    "tg1_camp = tg1_camp.loc[tg1_camp['Creative_Family']!='Other']\n",
    "sns.barplot(x='Creative_Family',y = 'CPC', data = tg1_camp, palette = 'rocket')\n",
    "plt.xlabel('Creative_Family',fontsize = 16)\n",
    "plt.ylabel('Cost per Click', fontsize=16)\n",
    "plt.title('TG1 : Campaign - CPC', fontsize=20)\n",
    "plt.tick_params(axis='both', which='major', labelsize=12)"
   ]
  },
  {
   "cell_type": "markdown",
   "id": "e15d5ebf",
   "metadata": {},
   "source": [
    "Target Group 1\n",
    "\n",
    "CPC : 'Facebook' is the most cost effective platform\n",
    "        - 'LinkedIn' is the most expensive\n",
    "\n",
    "CTR: 'LinkedIn' has highest \n",
    " \n",
    "'CloseFaster' is the most cost effective in terms of CPC"
   ]
  },
  {
   "cell_type": "markdown",
   "id": "465744cd",
   "metadata": {},
   "source": [
    "### Target Group 2"
   ]
  },
  {
   "cell_type": "code",
   "execution_count": 58,
   "id": "f47dd665",
   "metadata": {},
   "outputs": [
    {
     "data": {
      "image/png": "[encoded data removed]",
      "text/plain": [
       "<Figure size 864x576 with 1 Axes>"
      ]
     },
     "metadata": {},
     "output_type": "display_data"
    }
   ],
   "source": [
    "# TG2 : Plot Platform and Cost Per Click \n",
    "sns.barplot(x='Platform',y = 'CPC', data = tg2_plat, palette = 'rocket')\n",
    "plt.xlabel('Platform',fontsize = 16)\n",
    "plt.ylabel('Cost per Click', fontsize=16)\n",
    "plt.title('TG2 : Platforms - CPC', fontsize=20)\n",
    "plt.tick_params(axis='both', which='major', labelsize=12)"
   ]
  },
  {
   "cell_type": "code",
   "execution_count": 59,
   "id": "d89b71b1",
   "metadata": {},
   "outputs": [
    {
     "data": {
      "image/png": "[encoded data removed]",
      "text/plain": [
       "<Figure size 864x576 with 1 Axes>"
      ]
     },
     "metadata": {},
     "output_type": "display_data"
    }
   ],
   "source": [
    "# TG2 : Plot Platform and CTR\n",
    "sns.barplot(x='Platform',y = 'CTR', data = tg2_plat, palette = 'rocket')\n",
    "plt.xlabel('Platform',fontsize = 16)\n",
    "plt.ylabel('CTR', fontsize=16)\n",
    "plt.title('TG2 : Platforms - CTR', fontsize=20)\n",
    "plt.tick_params(axis='both', which='major', labelsize=12)"
   ]
  },
  {
   "cell_type": "code",
   "execution_count": 60,
   "id": "4e073b44",
   "metadata": {},
   "outputs": [
    {
     "data": {
      "image/png": "[encoded data removed]",
      "text/plain": [
       "<Figure size 864x576 with 1 Axes>"
      ]
     },
     "metadata": {},
     "output_type": "display_data"
    }
   ],
   "source": [
    "# TG2 : Plot Campaign and Cost Per Click\n",
    "tg2_camp = tg2_camp.loc[tg2_camp['Creative_Family']!='Other']\n",
    "sns.barplot(x='Creative_Family',y = 'CPC', data = tg2_camp, palette = 'rocket')\n",
    "plt.xlabel('Creative_Family',fontsize = 16)\n",
    "plt.ylabel('Cost per Click', fontsize=16)\n",
    "plt.title('TG2 : Campaign - CPC', fontsize=20)\n",
    "plt.tick_params(axis='both', which='major', labelsize=12)"
   ]
  },
  {
   "cell_type": "markdown",
   "id": "21b1304d",
   "metadata": {},
   "source": [
    "Target Group 2:\n",
    "\n",
    "CPC: UserID Display is the best CPC, followed by Domain Display\n",
    "\n",
    "CTR: LinkedIn has the highest\n",
    "\n",
    "CloserFaster is the best cost effective campaign\n"
   ]
  },
  {
   "cell_type": "markdown",
   "id": "deda6750",
   "metadata": {},
   "source": [
    " "
   ]
  },
  {
   "cell_type": "markdown",
   "id": "d343ffee",
   "metadata": {},
   "source": [
    " "
   ]
  },
  {
   "cell_type": "markdown",
   "id": "0d486a14",
   "metadata": {},
   "source": [
    "### Target Group 3"
   ]
  },
  {
   "cell_type": "code",
   "execution_count": 61,
   "id": "2083625d",
   "metadata": {},
   "outputs": [
    {
     "data": {
      "image/png": "[encoded data removed]",
      "text/plain": [
       "<Figure size 864x576 with 1 Axes>"
      ]
     },
     "metadata": {},
     "output_type": "display_data"
    }
   ],
   "source": [
    "# TG3 : Plot Platform and Cost Per Click \n",
    "sns.barplot(x='Platform',y = 'CPC', data = tg3_plat, palette = 'rocket')\n",
    "plt.xlabel('Platform',fontsize = 16)\n",
    "plt.ylabel('Cost per Click', fontsize=16)\n",
    "plt.title('TG3 : Platforms - CPC', fontsize=20)\n",
    "plt.tick_params(axis='both', which='major', labelsize=12)"
   ]
  },
  {
   "cell_type": "code",
   "execution_count": 62,
   "id": "b187831f",
   "metadata": {},
   "outputs": [
    {
     "data": {
      "image/png": "[encoded data removed]",
      "text/plain": [
       "<Figure size 864x576 with 1 Axes>"
      ]
     },
     "metadata": {},
     "output_type": "display_data"
    }
   ],
   "source": [
    "# TG3 : Plot Platform and CTR\n",
    "sns.barplot(x='Platform',y = 'CTR', data = tg3_plat, palette = 'rocket')\n",
    "plt.xlabel('Platform',fontsize = 16)\n",
    "plt.ylabel('CTR', fontsize=16)\n",
    "plt.title('TG3 : Platforms - CTR', fontsize=20)\n",
    "plt.tick_params(axis='both', which='major', labelsize=12)"
   ]
  },
  {
   "cell_type": "markdown",
   "id": "0f2d2d27",
   "metadata": {},
   "source": [
    "'OTT' does not have 'Clicks'.\n",
    "Looking at 'Impressions' instead"
   ]
  },
  {
   "cell_type": "code",
   "execution_count": 63,
   "id": "28e940e2",
   "metadata": {},
   "outputs": [
    {
     "data": {
      "image/png": "[encoded data removed]",
      "text/plain": [
       "<Figure size 864x576 with 1 Axes>"
      ]
     },
     "metadata": {},
     "output_type": "display_data"
    }
   ],
   "source": [
    "# TG3 : Plot Platform and Impressions\n",
    "sns.barplot(x='Platform',y = 'Impressions', data = tg3_plat, palette = 'rocket')\n",
    "plt.xlabel('Platform',fontsize = 16)\n",
    "plt.ylabel('Impressions', fontsize=16)\n",
    "plt.title('TG3 : Platforms - Impressions', fontsize=20)\n",
    "plt.tick_params(axis='both', which='major', labelsize=12)"
   ]
  },
  {
   "cell_type": "code",
   "execution_count": 64,
   "id": "6d99ceca",
   "metadata": {},
   "outputs": [
    {
     "data": {
      "image/png": "[encoded data removed]",
      "text/plain": [
       "<Figure size 864x576 with 1 Axes>"
      ]
     },
     "metadata": {},
     "output_type": "display_data"
    }
   ],
   "source": [
    "# TG3 : Plot Campaign and Spend\n",
    "#tg3_camp = tg3_camp.loc[tg3_camp['Creative_Family']!='Other']\n",
    "sns.barplot(x='Creative_Family',y = 'Spend', data = tg3_camp, palette = 'rocket')\n",
    "plt.xlabel('Creative_Family',fontsize = 16)\n",
    "plt.ylabel('Spend', fontsize=16)\n",
    "plt.title('TG3 : Campaign - Spend', fontsize=20)\n",
    "plt.tick_params(axis='both', which='major', labelsize=12)"
   ]
  },
  {
   "cell_type": "markdown",
   "id": "f17d118b",
   "metadata": {},
   "source": [
    "Target Group 3:\n",
    "\n",
    "OTT platform does not have clicks. So looking at 'Impressions' across the platforms and campaigns\n",
    "\n",
    "Impressions: OTT has the highest \n",
    "\n",
    "CloserTwins : most spend on this campaign\n",
    "\n"
   ]
  },
  {
   "cell_type": "markdown",
   "id": "0ebe93f2",
   "metadata": {},
   "source": [
    "#### Final Weighted_CTR_Score "
   ]
  },
  {
   "cell_type": "code",
   "execution_count": 65,
   "id": "f2314fea",
   "metadata": {},
   "outputs": [],
   "source": [
    "# Final Weighted CTR across the platform  for the target groups\n",
    "tg1_plat['Final_Wt_CTR'] = tg1_plat['Weighted_CTR_Score']/tg1_plat['Impressions']\n",
    "tg2_plat['Final_Wt_CTR'] = tg2_plat['Weighted_CTR_Score']/tg2_plat['Impressions']\n",
    "tg3_plat['Final_Wt_CTR'] = tg3_plat['Weighted_CTR_Score']/tg3_plat['Impressions']"
   ]
  },
  {
   "cell_type": "code",
   "execution_count": 66,
   "id": "7780d3f5",
   "metadata": {},
   "outputs": [],
   "source": [
    "# Final Weighted CTR across the platform  for the target groups\n",
    "tg1_camp['Final_Wt_CTR'] = tg1_camp['Weighted_CTR_Score']/tg1_plat['Impressions']\n",
    "tg2_camp['Final_Wt_CTR'] = tg2_camp['Weighted_CTR_Score']/tg2_camp['Impressions']\n",
    "tg3_camp['Final_Wt_CTR'] = tg3_camp['Weighted_CTR_Score']/tg3_camp['Impressions']"
   ]
  },
  {
   "cell_type": "code",
   "execution_count": 67,
   "id": "eef9726a",
   "metadata": {},
   "outputs": [
    {
     "data": {
      "text/html": [
       "<div>\n",
       "<style scoped>\n",
       "    .dataframe tbody tr th:only-of-type {\n",
       "        vertical-align: middle;\n",
       "    }\n",
       "\n",
       "    .dataframe tbody tr th {\n",
       "        vertical-align: top;\n",
       "    }\n",
       "\n",
       "    .dataframe thead th {\n",
       "        text-align: right;\n",
       "    }\n",
       "</style>\n",
       "<table border=\"1\" class=\"dataframe\">\n",
       "  <thead>\n",
       "    <tr style=\"text-align: right;\">\n",
       "      <th></th>\n",
       "      <th>Creative_Family</th>\n",
       "      <th>CTR</th>\n",
       "      <th>Spend</th>\n",
       "      <th>Clicks</th>\n",
       "      <th>Impressions</th>\n",
       "      <th>Reach</th>\n",
       "      <th>Weighted_CTR_Score</th>\n",
       "      <th>CPC</th>\n",
       "      <th>Final_Wt_CTR</th>\n",
       "    </tr>\n",
       "  </thead>\n",
       "  <tbody>\n",
       "    <tr>\n",
       "      <th>0</th>\n",
       "      <td>CloseFaster</td>\n",
       "      <td>0.003312</td>\n",
       "      <td>43361.166342</td>\n",
       "      <td>7499</td>\n",
       "      <td>4269441</td>\n",
       "      <td>1403328</td>\n",
       "      <td>3128035.5</td>\n",
       "      <td>5.782260</td>\n",
       "      <td>0.732657</td>\n",
       "    </tr>\n",
       "    <tr>\n",
       "      <th>1</th>\n",
       "      <td>CloserTwins</td>\n",
       "      <td>0.002623</td>\n",
       "      <td>101870.513593</td>\n",
       "      <td>10072</td>\n",
       "      <td>9812880</td>\n",
       "      <td>1793577</td>\n",
       "      <td>5819007.5</td>\n",
       "      <td>10.114229</td>\n",
       "      <td>0.592997</td>\n",
       "    </tr>\n",
       "    <tr>\n",
       "      <th>3</th>\n",
       "      <td>UnfairAdvantage</td>\n",
       "      <td>0.002031</td>\n",
       "      <td>177776.173833</td>\n",
       "      <td>20721</td>\n",
       "      <td>14590307</td>\n",
       "      <td>2605882</td>\n",
       "      <td>9316481.5</td>\n",
       "      <td>8.579517</td>\n",
       "      <td>0.638539</td>\n",
       "    </tr>\n",
       "  </tbody>\n",
       "</table>\n",
       "</div>"
      ],
      "text/plain": [
       "   Creative_Family       CTR          Spend  Clicks  Impressions    Reach  \\\n",
       "0      CloseFaster  0.003312   43361.166342    7499      4269441  1403328   \n",
       "1      CloserTwins  0.002623  101870.513593   10072      9812880  1793577   \n",
       "3  UnfairAdvantage  0.002031  177776.173833   20721     14590307  2605882   \n",
       "\n",
       "   Weighted_CTR_Score        CPC  Final_Wt_CTR  \n",
       "0           3128035.5   5.782260      0.732657  \n",
       "1           5819007.5  10.114229      0.592997  \n",
       "3           9316481.5   8.579517      0.638539  "
      ]
     },
     "execution_count": 67,
     "metadata": {},
     "output_type": "execute_result"
    }
   ],
   "source": [
    "tg2_camp"
   ]
  },
  {
   "cell_type": "markdown",
   "id": "48a06bb2",
   "metadata": {},
   "source": [
    "### Target Group 2 : Increase Engagement"
   ]
  },
  {
   "cell_type": "code",
   "execution_count": 68,
   "id": "6e1a90c9",
   "metadata": {},
   "outputs": [
    {
     "data": {
      "text/plain": [
       "<matplotlib.legend.Legend at 0x11d93ff39d0>"
      ]
     },
     "execution_count": 68,
     "metadata": {},
     "output_type": "execute_result"
    },
    {
     "data": {
      "image/png": "[encoded data removed]",
      "text/plain": [
       "<Figure size 864x576 with 2 Axes>"
      ]
     },
     "metadata": {},
     "output_type": "display_data"
    }
   ],
   "source": [
    "# TG2 : Plot for Final Wt_CTR and CPC across platforms\n",
    "\n",
    "fig, ax1 = plt.subplots()\n",
    "ax2 = ax1.twinx()\n",
    "sns.barplot(x = 'Platform',y = 'Final_Wt_CTR', palette = 'tab20',data = tg2_plat, ax=ax1)\n",
    "\n",
    "sns.lineplot(data=tg2_plat, x = 'Platform', y='CPC', ax = ax2 ,color='red', marker='o')\n",
    "\n",
    "ax1.set_xlabel('Final Weighted CTR', fontsize=12)\n",
    "ax2.set_ylabel('Cost Per Click', color='red', fontsize=12)\n",
    "\n",
    "plt.title(\"TG2: Comparing Weighted CTR and Cost per Click across Platforms\", fontsize=20)\n",
    "plt.tick_params(axis='both', which='major', labelsize=12)\n",
    "plt.legend(\"Cost Per Click\", fontsize=10)"
   ]
  },
  {
   "cell_type": "markdown",
   "id": "70760a16",
   "metadata": {},
   "source": [
    "User ID Display has a good weighted CTR and is cost effective too\n"
   ]
  },
  {
   "cell_type": "code",
   "execution_count": 69,
   "id": "13069677",
   "metadata": {},
   "outputs": [
    {
     "data": {
      "text/plain": [
       "<matplotlib.legend.Legend at 0x11d94011ac0>"
      ]
     },
     "execution_count": 69,
     "metadata": {},
     "output_type": "execute_result"
    },
    {
     "data": {
      "image/png": "[encoded data removed]",
      "text/plain": [
       "<Figure size 864x576 with 2 Axes>"
      ]
     },
     "metadata": {},
     "output_type": "display_data"
    }
   ],
   "source": [
    "# Target Group 2\n",
    "# Plot for Final Wt_CTR and CPC across campaigns\n",
    "fig, ax1 = plt.subplots()\n",
    "ax2 = ax1.twinx()\n",
    "sns.barplot(x = 'Creative_Family',y = 'Final_Wt_CTR', palette = 'tab20',data = tg2_camp, ax=ax1)\n",
    "\n",
    "sns.lineplot(data=tg2_camp, x = 'Creative_Family', y='CPC', ax = ax2 ,color='red', marker='o')\n",
    "\n",
    "ax1.set_xlabel('Final Weighted CTR', fontsize=12)\n",
    "ax2.set_ylabel('Cost Per Click', color='red', fontsize=12)\n",
    "\n",
    "plt.title(\"TG2: Comparing Weighted CTR and Cost per Click across Campaign Families\", fontsize=20)\n",
    "plt.tick_params(axis='both', which='major', labelsize=12)\n",
    "plt.legend(\"Cost Per Click\", fontsize=10)"
   ]
  },
  {
   "cell_type": "markdown",
   "id": "aa17f364",
   "metadata": {},
   "source": [
    "CloseFaster is the best cost effective campaign and also has the highest weighted CTR score in Target Group 2"
   ]
  }
 ],
 "metadata": {
  "kernelspec": {
   "display_name": "Python 3 (ipykernel)",
   "language": "python",
   "name": "python3"
  },
  "language_info": {
   "codemirror_mode": {
    "name": "ipython",
    "version": 3
   },
   "file_extension": ".py",
   "mimetype": "text/x-python",
   "name": "python",
   "nbconvert_exporter": "python",
   "pygments_lexer": "ipython3",
   "version": "3.9.12"
  }
 },
 "nbformat": 4,
 "nbformat_minor": 5
}
