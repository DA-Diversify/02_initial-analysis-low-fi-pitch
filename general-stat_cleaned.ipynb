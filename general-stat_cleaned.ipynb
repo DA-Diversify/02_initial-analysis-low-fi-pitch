{
 "cells": [
  {
   "cell_type": "code",
   "execution_count": 1,
   "id": "0a7b073c",
   "metadata": {},
   "outputs": [],
   "source": [
    "# Import necessary libraries.\n",
    "import pandas as pd\n",
    "\n",
    "# Ignore warnings\n",
    "import warnings\n",
    "warnings.filterwarnings('ignore')"
   ]
  },
  {
   "cell_type": "code",
   "execution_count": 2,
   "id": "032ddf61",
   "metadata": {},
   "outputs": [
    {
     "data": {
      "text/html": [
       "<div>\n",
       "<style scoped>\n",
       "    .dataframe tbody tr th:only-of-type {\n",
       "        vertical-align: middle;\n",
       "    }\n",
       "\n",
       "    .dataframe tbody tr th {\n",
       "        vertical-align: top;\n",
       "    }\n",
       "\n",
       "    .dataframe thead th {\n",
       "        text-align: right;\n",
       "    }\n",
       "</style>\n",
       "<table border=\"1\" class=\"dataframe\">\n",
       "  <thead>\n",
       "    <tr style=\"text-align: right;\">\n",
       "      <th></th>\n",
       "      <th>Date</th>\n",
       "      <th>Audience</th>\n",
       "      <th>Creative - Family</th>\n",
       "      <th>Creative - Version</th>\n",
       "      <th>Platform</th>\n",
       "      <th>Ad Format</th>\n",
       "      <th>Campaign Traffic?</th>\n",
       "      <th>Total Sessions</th>\n",
       "      <th>Total Bounces</th>\n",
       "      <th>Total Duration</th>\n",
       "      <th>Days away from max date</th>\n",
       "      <th>Latest report?</th>\n",
       "    </tr>\n",
       "  </thead>\n",
       "  <tbody>\n",
       "    <tr>\n",
       "      <th>0</th>\n",
       "      <td>2022-08-16</td>\n",
       "      <td>NaN</td>\n",
       "      <td>CloserTwins</td>\n",
       "      <td>Cutdown1A</td>\n",
       "      <td>Domain Display</td>\n",
       "      <td>Video</td>\n",
       "      <td>Campaign</td>\n",
       "      <td>1</td>\n",
       "      <td>0</td>\n",
       "      <td>73</td>\n",
       "      <td>76</td>\n",
       "      <td>0</td>\n",
       "    </tr>\n",
       "    <tr>\n",
       "      <th>1</th>\n",
       "      <td>2022-06-16</td>\n",
       "      <td>3</td>\n",
       "      <td>CloseFaster</td>\n",
       "      <td>NoDTI</td>\n",
       "      <td>Facebook</td>\n",
       "      <td>Single image</td>\n",
       "      <td>Campaign</td>\n",
       "      <td>1</td>\n",
       "      <td>0</td>\n",
       "      <td>0</td>\n",
       "      <td>137</td>\n",
       "      <td>0</td>\n",
       "    </tr>\n",
       "    <tr>\n",
       "      <th>2</th>\n",
       "      <td>2022-08-29</td>\n",
       "      <td>1</td>\n",
       "      <td>CloseFaster</td>\n",
       "      <td>MoreAll</td>\n",
       "      <td>User ID Display</td>\n",
       "      <td>NaN</td>\n",
       "      <td>Campaign</td>\n",
       "      <td>2</td>\n",
       "      <td>0</td>\n",
       "      <td>0</td>\n",
       "      <td>63</td>\n",
       "      <td>0</td>\n",
       "    </tr>\n",
       "    <tr>\n",
       "      <th>3</th>\n",
       "      <td>2022-06-09</td>\n",
       "      <td>4</td>\n",
       "      <td>UnfairAdvantage</td>\n",
       "      <td>1page</td>\n",
       "      <td>LinkedIn</td>\n",
       "      <td>Single image</td>\n",
       "      <td>Campaign</td>\n",
       "      <td>2</td>\n",
       "      <td>0</td>\n",
       "      <td>50</td>\n",
       "      <td>144</td>\n",
       "      <td>0</td>\n",
       "    </tr>\n",
       "    <tr>\n",
       "      <th>4</th>\n",
       "      <td>2022-08-03</td>\n",
       "      <td>1</td>\n",
       "      <td>UnfairAdvantage</td>\n",
       "      <td>1099</td>\n",
       "      <td>Domain Display</td>\n",
       "      <td>Single image</td>\n",
       "      <td>Campaign</td>\n",
       "      <td>1</td>\n",
       "      <td>0</td>\n",
       "      <td>0</td>\n",
       "      <td>89</td>\n",
       "      <td>0</td>\n",
       "    </tr>\n",
       "  </tbody>\n",
       "</table>\n",
       "</div>"
      ],
      "text/plain": [
       "         Date Audience Creative - Family Creative - Version         Platform  \\\n",
       "0  2022-08-16      NaN       CloserTwins          Cutdown1A   Domain Display   \n",
       "1  2022-06-16        3       CloseFaster              NoDTI         Facebook   \n",
       "2  2022-08-29        1       CloseFaster            MoreAll  User ID Display   \n",
       "3  2022-06-09        4   UnfairAdvantage              1page         LinkedIn   \n",
       "4  2022-08-03        1   UnfairAdvantage               1099   Domain Display   \n",
       "\n",
       "      Ad Format Campaign Traffic?  Total Sessions  Total Bounces  \\\n",
       "0         Video          Campaign               1              0   \n",
       "1  Single image          Campaign               1              0   \n",
       "2           NaN          Campaign               2              0   \n",
       "3  Single image          Campaign               2              0   \n",
       "4  Single image          Campaign               1              0   \n",
       "\n",
       "   Total Duration  Days away from max date  Latest report?  \n",
       "0              73                       76               0  \n",
       "1               0                      137               0  \n",
       "2               0                       63               0  \n",
       "3              50                      144               0  \n",
       "4               0                       89               0  "
      ]
     },
     "execution_count": 2,
     "metadata": {},
     "output_type": "execute_result"
    }
   ],
   "source": [
    "# Read the csv file\n",
    "general_stat = pd.read_csv('General_stat_website.csv')\n",
    "\n",
    "# View the dataframe\n",
    "general_stat.head()"
   ]
  },
  {
   "cell_type": "code",
   "execution_count": 3,
   "id": "034db447",
   "metadata": {},
   "outputs": [
    {
     "name": "stdout",
     "output_type": "stream",
     "text": [
      "<class 'pandas.core.frame.DataFrame'>\n",
      "RangeIndex: 13194 entries, 0 to 13193\n",
      "Data columns (total 12 columns):\n",
      " #   Column                   Non-Null Count  Dtype \n",
      "---  ------                   --------------  ----- \n",
      " 0   Date                     13194 non-null  object\n",
      " 1   Audience                 12430 non-null  object\n",
      " 2   Creative - Family        13194 non-null  object\n",
      " 3   Creative - Version       13194 non-null  object\n",
      " 4   Platform                 12821 non-null  object\n",
      " 5   Ad Format                7956 non-null   object\n",
      " 6   Campaign Traffic?        13194 non-null  object\n",
      " 7   Total Sessions           13194 non-null  int64 \n",
      " 8   Total Bounces            13194 non-null  int64 \n",
      " 9   Total Duration           13194 non-null  int64 \n",
      " 10  Days away from max date  13194 non-null  int64 \n",
      " 11  Latest report?           13194 non-null  int64 \n",
      "dtypes: int64(5), object(7)\n",
      "memory usage: 1.2+ MB\n"
     ]
    }
   ],
   "source": [
    "# Explore the dataset\n",
    "general_stat.info()"
   ]
  },
  {
   "cell_type": "markdown",
   "id": "480275af",
   "metadata": {},
   "source": [
    "# Data Cleaning Procedure for each column"
   ]
  },
  {
   "cell_type": "code",
   "execution_count": 4,
   "id": "bfed0327",
   "metadata": {},
   "outputs": [],
   "source": [
    "# Rename of some column\n",
    "general_stat.rename(columns = {'Campaign Traffic?':'Campaign Traffic', 'Creative - Family':'Creative_Family',\n",
    "                              'Creative - Version':'Creative_Version', 'Ad Format':'Ad_Format',\n",
    "                              'Total Sessions':'Total_Sessions', 'Total Bounces':'Total_Bounces',\n",
    "                              'Days_away_from_max_date':'Days_away_from_max_date', 'Latest report':'Latest_report',\n",
    "                              'Total Duration':'Total_Duration'},inplace = True)"
   ]
  },
  {
   "cell_type": "code",
   "execution_count": 5,
   "id": "36a7086f",
   "metadata": {},
   "outputs": [],
   "source": [
    "# Replace some values in Audience column\n",
    "general_stat['Audience'].replace({'1to4':'4', \n",
    "                               'General Targetting':'6', \n",
    "                               '1to4https://changewholesale.com/anti-inflation-special/?utm_campaign=FY22_anti_inflation':'4',\n",
    "                               'fourhttps://changewholesale.com/broker-approval/?utm_campaign=FY23_broker_campaign':'4',\n",
    "                               'fivehttps://changewholesale.com/broker-approval/?utm_campaign=FY23_broker_campaign':'5',\n",
    "                               'fivehttps://changewholesale.com/closer-twins/':'5', '44652':'NaN', 'test2':'2',\n",
    "                               'fivedisparate':'5', 'test3':'3', \n",
    "                               'fourhttps://changewholesale.com/?utm_campaign=FY23_broker_campaign':'4',\n",
    "                               'test20th':'NaN', 'five/broker-approval/':'5', 'test6':'6', 'one/':'1',\n",
    "                               'test5':'5'}, inplace = True)"
   ]
  },
  {
   "cell_type": "code",
   "execution_count": 6,
   "id": "0fa3c2fb",
   "metadata": {},
   "outputs": [
    {
     "data": {
      "text/plain": [
       "array([nan, '3', '1', '4', '5', '6', '2', 'NaN'], dtype=object)"
      ]
     },
     "execution_count": 6,
     "metadata": {},
     "output_type": "execute_result"
    }
   ],
   "source": [
    "general_stat['Audience'].unique()"
   ]
  },
  {
   "cell_type": "code",
   "execution_count": 7,
   "id": "ec159b4c",
   "metadata": {},
   "outputs": [],
   "source": [
    "# Replace some values in Creative_Family column\n",
    "general_stat['Creative_Family'].replace({'(not set)':'NaN', '09-06-2022':'NaN', 'August/':'Others', '08-29-2022':'NaN',\n",
    "                                        'All3':'NaN', '227112117':'NaN', '08-25-2022':'NaN', '08-24-2022':'NaN',\n",
    "                                        '08-30-2022':'NaN', '09-08-2022':'NaN', '10-28-2022':'NaN', '44801':'NaN',\n",
    "                                        '206306768':'NaN', '219526440':'NaN', '08-28-2022':'NaN', 'NovDec':'Others',\n",
    "                                        'DybffeGjvaf':'NaN', 'ebgf':'NaN', 'Baf-Baa':'NaN', 'DbzvatFbba':'NaN', \n",
    "                                        'Bhthfg':'NaN', 'FabcebdfYvif':'NaN', 'afjfyfggfe':'NaN', 'eml':'NaN',\n",
    "                                        'August':'Others', 'December':'Others', 'newsletter':'Others', \n",
    "                                        'ComingSoon':'Others','Trade Media':'Others', 'domain':'Others', 'One-Off':'Others',\n",
    "                                        '03-01-2022':'NaN', 'crm':'Others', 'SnapdocsLive':'Others',\n",
    "                                        'nmls':'Others', 'unfair':'Others'}, inplace = True)"
   ]
  },
  {
   "cell_type": "code",
   "execution_count": 8,
   "id": "84a35c7d",
   "metadata": {},
   "outputs": [
    {
     "data": {
      "text/plain": [
       "array(['CloserTwins', 'CloseFaster', 'UnfairAdvantage', 'SEM Ads',\n",
       "       'Trade Media Ads', 'NaN', 'Others', 'CompetitiveOpportunity'],\n",
       "      dtype=object)"
      ]
     },
     "execution_count": 8,
     "metadata": {},
     "output_type": "execute_result"
    }
   ],
   "source": [
    "general_stat['Creative_Family'].unique()"
   ]
  },
  {
   "cell_type": "code",
   "execution_count": 9,
   "id": "5a491cd9",
   "metadata": {},
   "outputs": [
    {
     "data": {
      "text/plain": [
       "array(['Cutdown1A', 'NoDTI', 'MoreAll', '1page', '1099', 'MoreLoansAll',\n",
       "       'Faceoff', 'All', \"We Are America's CDFI\", 'EarlyBird', 'OnePage',\n",
       "       'CloseMore', 'ROS5', 'Competitors', 'Namaste', 'interactive',\n",
       "       'OTT_15', 'ROS1', 'Change Wholesale', 'FasterAll', '3steps',\n",
       "       'Paperwork', '300x250', 'Faster', 'Cutdown1B', 'Animated',\n",
       "       '(not set)', 'Faceoff1', 'FasterReg', 'RTB', '09-06-2022',\n",
       "       'Close More. Close Faster.', 'MoreNoReg', 'ad1', 'Faceoff2',\n",
       "       'MoreLoans', 'August', 'ShapeUp', 'OTT_30QR', 'August/',\n",
       "       'Cancelingyourlock', 'Rate Lock', '08-29-2022',\n",
       "       'Theycancelweclose', 'OTT_30', 'NovDec', '728x90', 'EGC',\n",
       "       'One-Off', '03-01-2022', 'ComingSoon', 'All3', '227112117',\n",
       "       '08-25-2022', '08-24-2022', 'OTT_15QR', 'ROS2', 'SnapdocsLive',\n",
       "       '08-30-2022', '09-08-2022', '10-28-2022', 'wallpaper', 'ybdx',\n",
       "       'December', '44801', '206306768', 'Baf-Baa', 'ROS', 'DbzvatFbba',\n",
       "       'ROP', 'adv', 'Bhthfg', 'FabcebdfYvif', '219526440', '633k583',\n",
       "       '08-28-2022'], dtype=object)"
      ]
     },
     "execution_count": 9,
     "metadata": {},
     "output_type": "execute_result"
    }
   ],
   "source": [
    "general_stat['Creative_Version'].unique()"
   ]
  },
  {
   "cell_type": "code",
   "execution_count": 10,
   "id": "b9ae9e11",
   "metadata": {},
   "outputs": [],
   "source": [
    "# Replace some values in Creative_Version column\n",
    "general_stat['Creative_Version'].replace({'Cutdown1A':'Cutdown', '1page':'OnePage', \n",
    "                                          '1099':'NaN', 'MoreLoansAll':'MoreAll',\n",
    "                                         'ROS5':'ROS', 'OTT_15':'OTT', 'ROS1':'ROS', \n",
    "                                          '300x250':'NaN', 'Faster':'FasterAll', \n",
    "                                         'Cutdown1B':'Cutdown','(not set)':'NaN', \n",
    "                                          'Faceoff1':'Faceoff', 'FasterReg':'FasterAll',\n",
    "                                         '09-06-2022':'NaN', 'Close More. Close Faster.':'CloseMore',\n",
    "                                          'MoreNoReg':'MoreAll','Faceoff2':'Faceoff',\n",
    "                                          'MoreLoans':'MoreAll', 'August':'Others', \n",
    "                                          'OTT_30QR':'OTT', 'August/':'Others', \n",
    "                                          '08-29-2022':'NaN', 'Theycancelweclose':'Others',\n",
    "                                          'OTT_30':'OTT','NovDec':'Others',\n",
    "                                          '728x90':'NaN', 'EGC':'Others', \n",
    "                                          'One-Off':'Others', '03-01-2022':'NaN',\n",
    "                                         'ComingSoon':'Others', 'All3':'Others', \n",
    "                                          '227112117':'NaN', '08-25-2022':'NaN',\n",
    "                                         '08-24-2022':'NaN', 'OTT_15QR':'OTT', \n",
    "                                          'ROS2':'ROS', 'SnapdocsLive':'Others',\n",
    "                                         '08-30-2022':'NaN', '09-08-2022':'NaN', \n",
    "                                          '10-28-2022':'NaN', 'wallpaper':'Others', \n",
    "                                         'ybdx':'Others', 'December':'Others', \n",
    "                                          '44801':'NaN', '206306768':'NaN', \n",
    "                                         'Baf-Baa':'Others', 'DbzvatFbba':'Others',\n",
    "                                          'ROP':'Others', 'adv':'Others',\n",
    "                                         'Bhthfg':'Others', 'FabcebdfYvif':'Others',\n",
    "                                          '219526440':'NaN', '633k583':'NaN', '08-28-2022':'NaN'}, inplace = True)"
   ]
  },
  {
   "cell_type": "code",
   "execution_count": 11,
   "id": "ed2723e6",
   "metadata": {},
   "outputs": [
    {
     "data": {
      "text/plain": [
       "array(['Cutdown', 'NoDTI', 'MoreAll', 'OnePage', 'NaN', 'Faceoff', 'All',\n",
       "       \"We Are America's CDFI\", 'EarlyBird', 'CloseMore', 'ROS',\n",
       "       'Competitors', 'Namaste', 'interactive', 'OTT', 'Change Wholesale',\n",
       "       'FasterAll', '3steps', 'Paperwork', 'Animated', 'RTB', 'ad1',\n",
       "       'Others', 'ShapeUp', 'Cancelingyourlock', 'Rate Lock'],\n",
       "      dtype=object)"
      ]
     },
     "execution_count": 11,
     "metadata": {},
     "output_type": "execute_result"
    }
   ],
   "source": [
    "general_stat['Creative_Version'].unique()"
   ]
  },
  {
   "cell_type": "code",
   "execution_count": 12,
   "id": "5f1c56c9",
   "metadata": {},
   "outputs": [
    {
     "data": {
      "text/plain": [
       "array(['Domain Display', 'Facebook', 'User ID Display', 'LinkedIn',\n",
       "       'Google SEM', 'Trade Media', 'OTT', nan], dtype=object)"
      ]
     },
     "execution_count": 12,
     "metadata": {},
     "output_type": "execute_result"
    }
   ],
   "source": [
    "general_stat['Platform'].unique()"
   ]
  },
  {
   "cell_type": "code",
   "execution_count": 13,
   "id": "73b606e3",
   "metadata": {},
   "outputs": [
    {
     "data": {
      "text/plain": [
       "array(['Video', 'Single image', nan, 'Carousel', 'CPC', 'Housingwire',\n",
       "       'National_mortgage_news', 'Animated',\n",
       "       'Inside_mortgage_finance_newsletter', 'Chrisman', 'Scotsman',\n",
       "       'Nmn', 'Nmn_partner_insight_1', 'Nmn_partner_insight_2'],\n",
       "      dtype=object)"
      ]
     },
     "execution_count": 13,
     "metadata": {},
     "output_type": "execute_result"
    }
   ],
   "source": [
    "general_stat['Ad_Format'].unique()"
   ]
  },
  {
   "cell_type": "code",
   "execution_count": 14,
   "id": "a403ed9c",
   "metadata": {},
   "outputs": [],
   "source": [
    "# Replace some values in Ad_Format column\n",
    "general_stat['Ad_Format'].replace({'Nmn':'National_mortgage_news', 'Nmn_partner_insight_1':'National_mortgage_news',\n",
    "                                   'Nmn_partner_insight_2':'National_mortgage_news'}, inplace = True)"
   ]
  },
  {
   "cell_type": "code",
   "execution_count": 15,
   "id": "644d61c1",
   "metadata": {},
   "outputs": [
    {
     "data": {
      "text/plain": [
       "array(['Video', 'Single image', nan, 'Carousel', 'CPC', 'Housingwire',\n",
       "       'National_mortgage_news', 'Animated',\n",
       "       'Inside_mortgage_finance_newsletter', 'Chrisman', 'Scotsman'],\n",
       "      dtype=object)"
      ]
     },
     "execution_count": 15,
     "metadata": {},
     "output_type": "execute_result"
    }
   ],
   "source": [
    "general_stat['Ad_Format'].unique()"
   ]
  },
  {
   "cell_type": "markdown",
   "id": "22b1ea99",
   "metadata": {},
   "source": [
    "# Create target group column"
   ]
  },
  {
   "cell_type": "code",
   "execution_count": 16,
   "id": "8e9144f5",
   "metadata": {},
   "outputs": [
    {
     "data": {
      "text/html": [
       "<div>\n",
       "<style scoped>\n",
       "    .dataframe tbody tr th:only-of-type {\n",
       "        vertical-align: middle;\n",
       "    }\n",
       "\n",
       "    .dataframe tbody tr th {\n",
       "        vertical-align: top;\n",
       "    }\n",
       "\n",
       "    .dataframe thead th {\n",
       "        text-align: right;\n",
       "    }\n",
       "</style>\n",
       "<table border=\"1\" class=\"dataframe\">\n",
       "  <thead>\n",
       "    <tr style=\"text-align: right;\">\n",
       "      <th></th>\n",
       "      <th>Date</th>\n",
       "      <th>Audience</th>\n",
       "      <th>Creative_Family</th>\n",
       "      <th>Creative_Version</th>\n",
       "      <th>Platform</th>\n",
       "      <th>Ad_Format</th>\n",
       "      <th>Campaign Traffic</th>\n",
       "      <th>Total_Sessions</th>\n",
       "      <th>Total_Bounces</th>\n",
       "      <th>Total_Duration</th>\n",
       "      <th>Days away from max date</th>\n",
       "      <th>Latest report?</th>\n",
       "      <th>Target_Groups</th>\n",
       "    </tr>\n",
       "  </thead>\n",
       "  <tbody>\n",
       "    <tr>\n",
       "      <th>0</th>\n",
       "      <td>2022-08-16</td>\n",
       "      <td>NaN</td>\n",
       "      <td>CloserTwins</td>\n",
       "      <td>Cutdown</td>\n",
       "      <td>Domain Display</td>\n",
       "      <td>Video</td>\n",
       "      <td>Campaign</td>\n",
       "      <td>1</td>\n",
       "      <td>0</td>\n",
       "      <td>73</td>\n",
       "      <td>76</td>\n",
       "      <td>0</td>\n",
       "      <td>NaN</td>\n",
       "    </tr>\n",
       "    <tr>\n",
       "      <th>1</th>\n",
       "      <td>2022-06-16</td>\n",
       "      <td>3</td>\n",
       "      <td>CloseFaster</td>\n",
       "      <td>NoDTI</td>\n",
       "      <td>Facebook</td>\n",
       "      <td>Single image</td>\n",
       "      <td>Campaign</td>\n",
       "      <td>1</td>\n",
       "      <td>0</td>\n",
       "      <td>0</td>\n",
       "      <td>137</td>\n",
       "      <td>0</td>\n",
       "      <td>3</td>\n",
       "    </tr>\n",
       "    <tr>\n",
       "      <th>2</th>\n",
       "      <td>2022-08-29</td>\n",
       "      <td>1</td>\n",
       "      <td>CloseFaster</td>\n",
       "      <td>MoreAll</td>\n",
       "      <td>User ID Display</td>\n",
       "      <td>NaN</td>\n",
       "      <td>Campaign</td>\n",
       "      <td>2</td>\n",
       "      <td>0</td>\n",
       "      <td>0</td>\n",
       "      <td>63</td>\n",
       "      <td>0</td>\n",
       "      <td>1</td>\n",
       "    </tr>\n",
       "    <tr>\n",
       "      <th>3</th>\n",
       "      <td>2022-06-09</td>\n",
       "      <td>4</td>\n",
       "      <td>UnfairAdvantage</td>\n",
       "      <td>OnePage</td>\n",
       "      <td>LinkedIn</td>\n",
       "      <td>Single image</td>\n",
       "      <td>Campaign</td>\n",
       "      <td>2</td>\n",
       "      <td>0</td>\n",
       "      <td>50</td>\n",
       "      <td>144</td>\n",
       "      <td>0</td>\n",
       "      <td>4</td>\n",
       "    </tr>\n",
       "    <tr>\n",
       "      <th>4</th>\n",
       "      <td>2022-08-03</td>\n",
       "      <td>1</td>\n",
       "      <td>UnfairAdvantage</td>\n",
       "      <td>NaN</td>\n",
       "      <td>Domain Display</td>\n",
       "      <td>Single image</td>\n",
       "      <td>Campaign</td>\n",
       "      <td>1</td>\n",
       "      <td>0</td>\n",
       "      <td>0</td>\n",
       "      <td>89</td>\n",
       "      <td>0</td>\n",
       "      <td>1</td>\n",
       "    </tr>\n",
       "  </tbody>\n",
       "</table>\n",
       "</div>"
      ],
      "text/plain": [
       "         Date Audience  Creative_Family Creative_Version         Platform  \\\n",
       "0  2022-08-16      NaN      CloserTwins          Cutdown   Domain Display   \n",
       "1  2022-06-16        3      CloseFaster            NoDTI         Facebook   \n",
       "2  2022-08-29        1      CloseFaster          MoreAll  User ID Display   \n",
       "3  2022-06-09        4  UnfairAdvantage          OnePage         LinkedIn   \n",
       "4  2022-08-03        1  UnfairAdvantage              NaN   Domain Display   \n",
       "\n",
       "      Ad_Format Campaign Traffic  Total_Sessions  Total_Bounces  \\\n",
       "0         Video         Campaign               1              0   \n",
       "1  Single image         Campaign               1              0   \n",
       "2           NaN         Campaign               2              0   \n",
       "3  Single image         Campaign               2              0   \n",
       "4  Single image         Campaign               1              0   \n",
       "\n",
       "   Total_Duration  Days away from max date  Latest report? Target_Groups  \n",
       "0              73                       76               0           NaN  \n",
       "1               0                      137               0             3  \n",
       "2               0                       63               0             1  \n",
       "3              50                      144               0             4  \n",
       "4               0                       89               0             1  "
      ]
     },
     "execution_count": 16,
     "metadata": {},
     "output_type": "execute_result"
    }
   ],
   "source": [
    "# Creat a subset to include target group column\n",
    "general_stat['Target_Groups'] = general_stat.loc[:, 'Audience']\n",
    "\n",
    "# View the dataset\n",
    "general_stat.head()"
   ]
  },
  {
   "cell_type": "code",
   "execution_count": 17,
   "id": "2b1b33c6",
   "metadata": {},
   "outputs": [],
   "source": [
    "# Replace Audience '1,2,3' as '1' in Target_Group\n",
    "general_stat['Target_Groups'] = general_stat['Target_Groups'].replace(['1', '2', '3'], '1')"
   ]
  },
  {
   "cell_type": "code",
   "execution_count": 18,
   "id": "a188746e",
   "metadata": {},
   "outputs": [],
   "source": [
    "# Replace Audience '4, 5' as '2' in Target_Group\n",
    "general_stat['Target_Groups'] = general_stat['Target_Groups'].replace(['4', '5'], '2')"
   ]
  },
  {
   "cell_type": "code",
   "execution_count": 19,
   "id": "8eddc237",
   "metadata": {},
   "outputs": [],
   "source": [
    "# Replace Audience '6' as '3' in Target_Group\n",
    "general_stat['Target_Groups'] = general_stat['Target_Groups'].replace(['6'], '3')"
   ]
  },
  {
   "cell_type": "code",
   "execution_count": 20,
   "id": "4ddf8916",
   "metadata": {},
   "outputs": [
    {
     "data": {
      "text/plain": [
       "array([nan, '1', '2', '3', 'NaN'], dtype=object)"
      ]
     },
     "execution_count": 20,
     "metadata": {},
     "output_type": "execute_result"
    }
   ],
   "source": [
    "general_stat['Target_Groups'].unique()"
   ]
  },
  {
   "cell_type": "markdown",
   "id": "eb1830c5",
   "metadata": {},
   "source": [
    "# To convert the date from object to datetime"
   ]
  },
  {
   "cell_type": "code",
   "execution_count": 21,
   "id": "73a75732",
   "metadata": {},
   "outputs": [
    {
     "name": "stdout",
     "output_type": "stream",
     "text": [
      "Date                       datetime64[ns]\n",
      "Audience                           object\n",
      "Creative_Family                    object\n",
      "Creative_Version                   object\n",
      "Platform                           object\n",
      "Ad_Format                          object\n",
      "Campaign Traffic                   object\n",
      "Total_Sessions                      int64\n",
      "Total_Bounces                       int64\n",
      "Total_Duration                      int64\n",
      "Days away from max date             int64\n",
      "Latest report?                      int64\n",
      "Target_Groups                      object\n",
      "dtype: object\n"
     ]
    }
   ],
   "source": [
    "# To convert the date to datetime\n",
    "general_stat['Date'] = pd.to_datetime(general_stat['Date'], format='%Y/%m/%d')\n",
    "print(general_stat.dtypes)"
   ]
  },
  {
   "cell_type": "code",
   "execution_count": 22,
   "id": "c9e6b14c",
   "metadata": {},
   "outputs": [],
   "source": [
    "general_stat.to_csv('general-stat_cleaned.csv')"
   ]
  },
  {
   "cell_type": "code",
   "execution_count": 23,
   "id": "ed45d106",
   "metadata": {},
   "outputs": [],
   "source": [
    "# Import the necessary libraries for visualisations.\n",
    "import seaborn as sns\n",
    "import matplotlib.pyplot as plt\n",
    "import numpy as np\n",
    "\n",
    "# Set the plot style as white.\n",
    "sns.set_theme(style=\"whitegrid\")"
   ]
  },
  {
   "cell_type": "code",
   "execution_count": 24,
   "id": "f5f18739",
   "metadata": {},
   "outputs": [
    {
     "data": {
      "text/html": [
       "<div>\n",
       "<style scoped>\n",
       "    .dataframe tbody tr th:only-of-type {\n",
       "        vertical-align: middle;\n",
       "    }\n",
       "\n",
       "    .dataframe tbody tr th {\n",
       "        vertical-align: top;\n",
       "    }\n",
       "\n",
       "    .dataframe thead th {\n",
       "        text-align: right;\n",
       "    }\n",
       "</style>\n",
       "<table border=\"1\" class=\"dataframe\">\n",
       "  <thead>\n",
       "    <tr style=\"text-align: right;\">\n",
       "      <th></th>\n",
       "      <th>Date</th>\n",
       "      <th>Audience</th>\n",
       "      <th>Creative_Family</th>\n",
       "      <th>Creative_Version</th>\n",
       "      <th>Platform</th>\n",
       "      <th>Ad_Format</th>\n",
       "      <th>Campaign Traffic</th>\n",
       "      <th>Total_Sessions</th>\n",
       "      <th>Total_Bounces</th>\n",
       "      <th>Total_Duration</th>\n",
       "      <th>Days away from max date</th>\n",
       "      <th>Latest report?</th>\n",
       "      <th>Target_Groups</th>\n",
       "    </tr>\n",
       "  </thead>\n",
       "  <tbody>\n",
       "    <tr>\n",
       "      <th>9</th>\n",
       "      <td>2022-06-15</td>\n",
       "      <td>6</td>\n",
       "      <td>SEM Ads</td>\n",
       "      <td>We Are America's CDFI</td>\n",
       "      <td>Google SEM</td>\n",
       "      <td>CPC</td>\n",
       "      <td>Campaign</td>\n",
       "      <td>5</td>\n",
       "      <td>0</td>\n",
       "      <td>184</td>\n",
       "      <td>138</td>\n",
       "      <td>0</td>\n",
       "      <td>3</td>\n",
       "    </tr>\n",
       "    <tr>\n",
       "      <th>14</th>\n",
       "      <td>2022-05-31</td>\n",
       "      <td>6</td>\n",
       "      <td>Trade Media Ads</td>\n",
       "      <td>ROS</td>\n",
       "      <td>Trade Media</td>\n",
       "      <td>Housingwire</td>\n",
       "      <td>Campaign</td>\n",
       "      <td>4</td>\n",
       "      <td>0</td>\n",
       "      <td>1403</td>\n",
       "      <td>153</td>\n",
       "      <td>0</td>\n",
       "      <td>3</td>\n",
       "    </tr>\n",
       "    <tr>\n",
       "      <th>29</th>\n",
       "      <td>2022-04-16</td>\n",
       "      <td>6</td>\n",
       "      <td>CloserTwins</td>\n",
       "      <td>OTT</td>\n",
       "      <td>OTT</td>\n",
       "      <td>Video</td>\n",
       "      <td>Campaign</td>\n",
       "      <td>1</td>\n",
       "      <td>0</td>\n",
       "      <td>0</td>\n",
       "      <td>198</td>\n",
       "      <td>0</td>\n",
       "      <td>3</td>\n",
       "    </tr>\n",
       "    <tr>\n",
       "      <th>30</th>\n",
       "      <td>2022-04-29</td>\n",
       "      <td>6</td>\n",
       "      <td>Trade Media Ads</td>\n",
       "      <td>ROS</td>\n",
       "      <td>Trade Media</td>\n",
       "      <td>Housingwire</td>\n",
       "      <td>Campaign</td>\n",
       "      <td>1</td>\n",
       "      <td>0</td>\n",
       "      <td>0</td>\n",
       "      <td>185</td>\n",
       "      <td>0</td>\n",
       "      <td>3</td>\n",
       "    </tr>\n",
       "    <tr>\n",
       "      <th>32</th>\n",
       "      <td>2022-05-20</td>\n",
       "      <td>6</td>\n",
       "      <td>Trade Media Ads</td>\n",
       "      <td>ROS</td>\n",
       "      <td>Trade Media</td>\n",
       "      <td>Housingwire</td>\n",
       "      <td>Campaign</td>\n",
       "      <td>4</td>\n",
       "      <td>0</td>\n",
       "      <td>50</td>\n",
       "      <td>164</td>\n",
       "      <td>0</td>\n",
       "      <td>3</td>\n",
       "    </tr>\n",
       "  </tbody>\n",
       "</table>\n",
       "</div>"
      ],
      "text/plain": [
       "         Date Audience  Creative_Family       Creative_Version     Platform  \\\n",
       "9  2022-06-15        6          SEM Ads  We Are America's CDFI   Google SEM   \n",
       "14 2022-05-31        6  Trade Media Ads                    ROS  Trade Media   \n",
       "29 2022-04-16        6      CloserTwins                    OTT          OTT   \n",
       "30 2022-04-29        6  Trade Media Ads                    ROS  Trade Media   \n",
       "32 2022-05-20        6  Trade Media Ads                    ROS  Trade Media   \n",
       "\n",
       "      Ad_Format Campaign Traffic  Total_Sessions  Total_Bounces  \\\n",
       "9           CPC         Campaign               5              0   \n",
       "14  Housingwire         Campaign               4              0   \n",
       "29        Video         Campaign               1              0   \n",
       "30  Housingwire         Campaign               1              0   \n",
       "32  Housingwire         Campaign               4              0   \n",
       "\n",
       "    Total_Duration  Days away from max date  Latest report? Target_Groups  \n",
       "9              184                      138               0             3  \n",
       "14            1403                      153               0             3  \n",
       "29               0                      198               0             3  \n",
       "30               0                      185               0             3  \n",
       "32              50                      164               0             3  "
      ]
     },
     "execution_count": 24,
     "metadata": {},
     "output_type": "execute_result"
    }
   ],
   "source": [
    "# Create the subset of genral_stat\n",
    "general_stat_tg3 = general_stat[general_stat['Target_Groups']== '3']\n",
    "\n",
    "# View DataFrame\n",
    "general_stat_tg3.head()"
   ]
  },
  {
   "cell_type": "code",
   "execution_count": 25,
   "id": "96ab3b02",
   "metadata": {},
   "outputs": [
    {
     "data": {
      "image/png": "[encoded data removed]",
      "text/plain": [
       "<Figure size 500x500 with 1 Axes>"
      ]
     },
     "metadata": {},
     "output_type": "display_data"
    }
   ],
   "source": [
    "# Bar chart showig total duration by creative family\n",
    "sns.catplot(data=general_stat_tg3, y ='Creative_Family', x = 'Total_Duration', kind = 'bar')\n",
    "\n",
    "plt.title('Total_Duration by Creative_Family', fontsize=12)\n",
    "# Set the plot style as white.\n",
    "sns.set_theme(style=\"whitegrid\")"
   ]
  },
  {
   "cell_type": "code",
   "execution_count": null,
   "id": "dedc72fb",
   "metadata": {},
   "outputs": [],
   "source": []
  }
 ],
 "metadata": {
  "kernelspec": {
   "display_name": "Python 3 (ipykernel)",
   "language": "python",
   "name": "python3"
  },
  "language_info": {
   "codemirror_mode": {
    "name": "ipython",
    "version": 3
   },
   "file_extension": ".py",
   "mimetype": "text/x-python",
   "name": "python",
   "nbconvert_exporter": "python",
   "pygments_lexer": "ipython3",
   "version": "3.9.13"
  }
 },
 "nbformat": 4,
 "nbformat_minor": 5
}
